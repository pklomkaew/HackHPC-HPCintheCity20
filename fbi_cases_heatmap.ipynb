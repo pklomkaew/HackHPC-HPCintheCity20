{
  "nbformat": 4,
  "nbformat_minor": 0,
  "metadata": {
    "colab": {
      "name": "fbi_cases_heatmap.ipynb",
      "provenance": [],
      "collapsed_sections": [],
      "authorship_tag": "ABX9TyO2oi7t9hVXmISjBAmSE8Jc",
      "include_colab_link": true
    },
    "kernelspec": {
      "name": "python3",
      "display_name": "Python 3"
    }
  },
  "cells": [
    {
      "cell_type": "markdown",
      "metadata": {
        "id": "view-in-github",
        "colab_type": "text"
      },
      "source": [
        "<a href=\"https://colab.research.google.com/github/pklomkaew/HackHPC-HPCintheCity20/blob/gh-pages/fbi_cases_heatmap.ipynb\" target=\"_parent\"><img src=\"https://colab.research.google.com/assets/colab-badge.svg\" alt=\"Open In Colab\"/></a>"
      ]
    },
    {
      "cell_type": "code",
      "metadata": {
        "id": "dTyf3jSlrFSN",
        "outputId": "f8bb31dd-6846-4e82-821e-c0e7fa279878",
        "colab": {
          "base_uri": "https://localhost:8080/"
        }
      },
      "source": [
        "# Installation of necessary packages\n",
        "pip install xlrd"
      ],
      "execution_count": 1,
      "outputs": [
        {
          "output_type": "stream",
          "text": [
            "Requirement already satisfied: xlrd in /usr/local/lib/python3.6/dist-packages (1.1.0)\n"
          ],
          "name": "stdout"
        }
      ]
    },
    {
      "cell_type": "code",
      "metadata": {
        "id": "OrA5sQ_65LeC",
        "outputId": "bf73faad-87e0-48d2-95b2-69b381b464fa",
        "colab": {
          "base_uri": "https://localhost:8080/"
        }
      },
      "source": [
        "pip install plotly==4.12.0"
      ],
      "execution_count": 83,
      "outputs": [
        {
          "output_type": "stream",
          "text": [
            "Requirement already satisfied: plotly==4.12.0 in /usr/local/lib/python3.6/dist-packages (4.12.0)\n",
            "Requirement already satisfied: retrying>=1.3.3 in /usr/local/lib/python3.6/dist-packages (from plotly==4.12.0) (1.3.3)\n",
            "Requirement already satisfied: six in /usr/local/lib/python3.6/dist-packages (from plotly==4.12.0) (1.15.0)\n"
          ],
          "name": "stdout"
        }
      ]
    },
    {
      "cell_type": "code",
      "metadata": {
        "id": "_6zN2wel6FtW",
        "outputId": "a37ee16f-4638-473c-f179-908e5ef9f59e",
        "colab": {
          "base_uri": "https://localhost:8080/"
        }
      },
      "source": [
        "pip install plotly-geo"
      ],
      "execution_count": 87,
      "outputs": [
        {
          "output_type": "stream",
          "text": [
            "Collecting plotly-geo\n",
            "\u001b[?25l  Downloading https://files.pythonhosted.org/packages/be/c6/be7d476e8c14c318c7b80329317d5dd5d1b876c393c9f8c0363b0dd188b8/plotly_geo-1.0.0-py3-none-any.whl (23.7MB)\n",
            "\u001b[K     |████████████████████████████████| 23.7MB 1.7MB/s \n",
            "\u001b[?25hInstalling collected packages: plotly-geo\n",
            "Successfully installed plotly-geo-1.0.0\n"
          ],
          "name": "stdout"
        }
      ]
    },
    {
      "cell_type": "code",
      "metadata": {
        "id": "fW67GLhq5Qy9",
        "outputId": "c4f67bdf-1438-44f5-a422-7ebb871e2421",
        "colab": {
          "base_uri": "https://localhost:8080/"
        }
      },
      "source": [
        "pip install dash"
      ],
      "execution_count": 84,
      "outputs": [
        {
          "output_type": "stream",
          "text": [
            "Requirement already satisfied: dash in /usr/local/lib/python3.6/dist-packages (1.17.0)\n",
            "Requirement already satisfied: dash-table==4.11.0 in /usr/local/lib/python3.6/dist-packages (from dash) (4.11.0)\n",
            "Requirement already satisfied: dash-core-components==1.13.0 in /usr/local/lib/python3.6/dist-packages (from dash) (1.13.0)\n",
            "Requirement already satisfied: dash-renderer==1.8.3 in /usr/local/lib/python3.6/dist-packages (from dash) (1.8.3)\n",
            "Requirement already satisfied: flask-compress in /usr/local/lib/python3.6/dist-packages (from dash) (1.8.0)\n",
            "Requirement already satisfied: Flask>=1.0.2 in /usr/local/lib/python3.6/dist-packages (from dash) (1.1.2)\n",
            "Requirement already satisfied: dash-html-components==1.1.1 in /usr/local/lib/python3.6/dist-packages (from dash) (1.1.1)\n",
            "Requirement already satisfied: future in /usr/local/lib/python3.6/dist-packages (from dash) (0.16.0)\n",
            "Requirement already satisfied: plotly in /usr/local/lib/python3.6/dist-packages (from dash) (4.12.0)\n",
            "Requirement already satisfied: brotli in /usr/local/lib/python3.6/dist-packages (from flask-compress->dash) (1.0.9)\n",
            "Requirement already satisfied: click>=5.1 in /usr/local/lib/python3.6/dist-packages (from Flask>=1.0.2->dash) (7.1.2)\n",
            "Requirement already satisfied: Jinja2>=2.10.1 in /usr/local/lib/python3.6/dist-packages (from Flask>=1.0.2->dash) (2.11.2)\n",
            "Requirement already satisfied: itsdangerous>=0.24 in /usr/local/lib/python3.6/dist-packages (from Flask>=1.0.2->dash) (1.1.0)\n",
            "Requirement already satisfied: Werkzeug>=0.15 in /usr/local/lib/python3.6/dist-packages (from Flask>=1.0.2->dash) (1.0.1)\n",
            "Requirement already satisfied: retrying>=1.3.3 in /usr/local/lib/python3.6/dist-packages (from plotly->dash) (1.3.3)\n",
            "Requirement already satisfied: six in /usr/local/lib/python3.6/dist-packages (from plotly->dash) (1.15.0)\n",
            "Requirement already satisfied: MarkupSafe>=0.23 in /usr/local/lib/python3.6/dist-packages (from Jinja2>=2.10.1->Flask>=1.0.2->dash) (1.1.1)\n"
          ],
          "name": "stdout"
        }
      ]
    },
    {
      "cell_type": "code",
      "metadata": {
        "id": "5gkmwgF24ahS"
      },
      "source": [
        "# Importing packages\n",
        "import plotly.figure_factory as ff \n",
        "import numpy as np\n",
        "import pandas as pd\n",
        "import requests"
      ],
      "execution_count": 135,
      "outputs": []
    },
    {
      "cell_type": "code",
      "metadata": {
        "id": "g-otMTcnqigZ"
      },
      "source": [
        "# Data Source: FBI\n",
        "url2 = 'https://ucr.fbi.gov/crime-in-the-u.s/2018/crime-in-the-u.s.-2018/tables/table-8/table-8-state-cuts/georgia.xls/output.xls'\n",
        "r2 = requests.get(url2)\n",
        "\n",
        "with open('fbi_data.xls', 'wb') as f2:\n",
        "    f2.write(r2.content)"
      ],
      "execution_count": 136,
      "outputs": []
    },
    {
      "cell_type": "code",
      "metadata": {
        "id": "Bh5PGynPrGBV"
      },
      "source": [
        "# Data capentry\n",
        "fbi_df = pd.read_excel('fbi_data.xls', header=4)\n",
        "\n",
        "# Changing column names\n",
        "fbi_df = fbi_df.rename(columns={\"Population\" : \"population\", \"Violent\\ncrime\" : \"violent_crime\", \"Murder and\\nnonnegligent\\nmanslaughter\" : \"murder\", \"Rape1\" : \"rape\",})\n",
        "fbi_df = fbi_df.rename(columns={ \"Robbery\" : \"robbery\", \"Aggravated\\nassault\" : \"assault\", \"Property\\ncrime\" : \"property\", \"Burglary\" : \"burglary\", \"Larceny-\\ntheft\" : \"larceny\"})\n",
        "fbi_df = fbi_df.rename(columns={ \"Motor\\nvehicle\\ntheft\" : \"vehicle_theft\", \"Arson2\" : \"arson\"})\n",
        "\n",
        "fbi_df.head(5);\n",
        "\n",
        "# Slicing dataframe\n",
        "fbi_df = fbi_df[0:254]\n",
        "\n",
        "# Upload coordinates and counties\n",
        "ga_cities = pd.read_csv('ga-cities-coordinates.csv')\n",
        "city = ga_cities.loc[:,['City']]\n",
        "fbi_df = fbi_df.drop(['City'],axis=1)\n",
        "fbi_df = pd.concat([city, fbi_df], axis=1, join='inner')\n"
      ],
      "execution_count": 137,
      "outputs": []
    },
    {
      "cell_type": "code",
      "metadata": {
        "id": "75T7BPHurTuB"
      },
      "source": [
        "fbi_df = fbi_df.drop(['arson'], axis=1)"
      ],
      "execution_count": 138,
      "outputs": []
    },
    {
      "cell_type": "code",
      "metadata": {
        "id": "Jz-Tolocr8cB"
      },
      "source": [
        "# Importing libraries\n",
        "import plotly.express as px\n",
        "import os\n",
        "\n",
        "from urllib.request import urlopen\n",
        "import json\n",
        "with urlopen('https://raw.githubusercontent.com/plotly/datasets/master/geojson-counties-fips.json') as response:\n",
        "    counties = json.load(response)\n",
        "ga_counties = {'type': 'FeatureCollection', 'features': []}\n",
        "\n",
        "# Generate GA specific geojson\n",
        "for county in counties['features']:\n",
        "    if county['properties']['STATE'] in ['13']:\n",
        "        ga_counties['features'].append(county)\n",
        "\n",
        "ga_cities = pd.read_csv('ga-cities-coordinates.csv')\n",
        "# coord_df = ga_cities.loc[:,['City','Latitude','Longitude']]\n",
        "county_df = ga_cities.loc[:,['County']]"
      ],
      "execution_count": 139,
      "outputs": []
    },
    {
      "cell_type": "code",
      "metadata": {
        "id": "cSSDpH9IsAz1"
      },
      "source": [
        "# Sum up cases of cities in the same counties\n",
        "df = pd.concat([fbi_df, county_df], axis=1, join='inner')\n",
        "case_by_county = df.groupby('County').sum()\n",
        "case_by_county = case_by_county.set_index([pd.Index(range(0,128))])"
      ],
      "execution_count": 140,
      "outputs": []
    },
    {
      "cell_type": "code",
      "metadata": {
        "id": "VbMhXl6wsJQr",
        "outputId": "f33b8edb-efa8-4a8c-9b02-c14d1088a435",
        "colab": {
          "base_uri": "https://localhost:8080/",
          "height": 419
        }
      },
      "source": [
        "# To get fips per county\n",
        "gadata = pd.read_csv('Counties_GA_edited.csv')\n",
        "gadata = gadata.rename(columns={'NAME10':'County', 'GEOID10':'fips', 'NAMELSAD10':'County_fullname'})\n",
        "\n",
        "# Sort data by alphabetizing county \n",
        "gadata = gadata.sort_values(by=[\"County\"])\n",
        "\n",
        "# Isolating fips & combine fips with case_by_county\n",
        "fips = gadata.loc[:,['County','fips','County_fullname']]\n",
        "fips = fips.set_index([pd.Index(range(0,128))])\n",
        "case_df = pd.concat([case_by_county, fips],axis=1)\n",
        "\n",
        "case_df_perpop = case_df\n",
        "case_df"
      ],
      "execution_count": 177,
      "outputs": [
        {
          "output_type": "execute_result",
          "data": {
            "text/html": [
              "<div>\n",
              "<style scoped>\n",
              "    .dataframe tbody tr th:only-of-type {\n",
              "        vertical-align: middle;\n",
              "    }\n",
              "\n",
              "    .dataframe tbody tr th {\n",
              "        vertical-align: top;\n",
              "    }\n",
              "\n",
              "    .dataframe thead th {\n",
              "        text-align: right;\n",
              "    }\n",
              "</style>\n",
              "<table border=\"1\" class=\"dataframe\">\n",
              "  <thead>\n",
              "    <tr style=\"text-align: right;\">\n",
              "      <th></th>\n",
              "      <th>population</th>\n",
              "      <th>violent_crime</th>\n",
              "      <th>murder</th>\n",
              "      <th>rape</th>\n",
              "      <th>robbery</th>\n",
              "      <th>assault</th>\n",
              "      <th>property</th>\n",
              "      <th>burglary</th>\n",
              "      <th>larceny</th>\n",
              "      <th>vehicle_theft</th>\n",
              "      <th>County</th>\n",
              "      <th>fips</th>\n",
              "      <th>County_fullname</th>\n",
              "    </tr>\n",
              "  </thead>\n",
              "  <tbody>\n",
              "    <tr>\n",
              "      <th>0</th>\n",
              "      <td>5013.0</td>\n",
              "      <td>73.0</td>\n",
              "      <td>1.0</td>\n",
              "      <td>3.0</td>\n",
              "      <td>8.0</td>\n",
              "      <td>61.0</td>\n",
              "      <td>388.0</td>\n",
              "      <td>67.0</td>\n",
              "      <td>293.0</td>\n",
              "      <td>28.0</td>\n",
              "      <td>Appling</td>\n",
              "      <td>13001</td>\n",
              "      <td>Appling County</td>\n",
              "    </tr>\n",
              "    <tr>\n",
              "      <th>1</th>\n",
              "      <td>1373.0</td>\n",
              "      <td>3.0</td>\n",
              "      <td>0.0</td>\n",
              "      <td>0.0</td>\n",
              "      <td>1.0</td>\n",
              "      <td>2.0</td>\n",
              "      <td>31.0</td>\n",
              "      <td>13.0</td>\n",
              "      <td>18.0</td>\n",
              "      <td>0.0</td>\n",
              "      <td>Atkinson</td>\n",
              "      <td>13003</td>\n",
              "      <td>Atkinson County</td>\n",
              "    </tr>\n",
              "    <tr>\n",
              "      <th>2</th>\n",
              "      <td>3486.0</td>\n",
              "      <td>25.0</td>\n",
              "      <td>1.0</td>\n",
              "      <td>0.0</td>\n",
              "      <td>3.0</td>\n",
              "      <td>21.0</td>\n",
              "      <td>198.0</td>\n",
              "      <td>65.0</td>\n",
              "      <td>123.0</td>\n",
              "      <td>10.0</td>\n",
              "      <td>Bacon</td>\n",
              "      <td>13005</td>\n",
              "      <td>Bacon County</td>\n",
              "    </tr>\n",
              "    <tr>\n",
              "      <th>3</th>\n",
              "      <td>593.0</td>\n",
              "      <td>0.0</td>\n",
              "      <td>0.0</td>\n",
              "      <td>0.0</td>\n",
              "      <td>0.0</td>\n",
              "      <td>0.0</td>\n",
              "      <td>1.0</td>\n",
              "      <td>0.0</td>\n",
              "      <td>1.0</td>\n",
              "      <td>0.0</td>\n",
              "      <td>Baker</td>\n",
              "      <td>13007</td>\n",
              "      <td>Baker County</td>\n",
              "    </tr>\n",
              "    <tr>\n",
              "      <th>4</th>\n",
              "      <td>18620.0</td>\n",
              "      <td>66.0</td>\n",
              "      <td>0.0</td>\n",
              "      <td>5.0</td>\n",
              "      <td>17.0</td>\n",
              "      <td>44.0</td>\n",
              "      <td>764.0</td>\n",
              "      <td>103.0</td>\n",
              "      <td>617.0</td>\n",
              "      <td>44.0</td>\n",
              "      <td>Baldwin</td>\n",
              "      <td>13009</td>\n",
              "      <td>Baldwin County</td>\n",
              "    </tr>\n",
              "    <tr>\n",
              "      <th>...</th>\n",
              "      <td>...</td>\n",
              "      <td>...</td>\n",
              "      <td>...</td>\n",
              "      <td>...</td>\n",
              "      <td>...</td>\n",
              "      <td>...</td>\n",
              "      <td>...</td>\n",
              "      <td>...</td>\n",
              "      <td>...</td>\n",
              "      <td>...</td>\n",
              "      <td>...</td>\n",
              "      <td>...</td>\n",
              "      <td>...</td>\n",
              "    </tr>\n",
              "    <tr>\n",
              "      <th>123</th>\n",
              "      <td>4503.0</td>\n",
              "      <td>11.0</td>\n",
              "      <td>0.0</td>\n",
              "      <td>2.0</td>\n",
              "      <td>0.0</td>\n",
              "      <td>9.0</td>\n",
              "      <td>257.0</td>\n",
              "      <td>22.0</td>\n",
              "      <td>232.0</td>\n",
              "      <td>3.0</td>\n",
              "      <td>White</td>\n",
              "      <td>13311</td>\n",
              "      <td>White County</td>\n",
              "    </tr>\n",
              "    <tr>\n",
              "      <th>124</th>\n",
              "      <td>34704.0</td>\n",
              "      <td>93.0</td>\n",
              "      <td>0.0</td>\n",
              "      <td>11.0</td>\n",
              "      <td>21.0</td>\n",
              "      <td>61.0</td>\n",
              "      <td>1003.0</td>\n",
              "      <td>122.0</td>\n",
              "      <td>800.0</td>\n",
              "      <td>81.0</td>\n",
              "      <td>Whitfield</td>\n",
              "      <td>13313</td>\n",
              "      <td>Whitfield County</td>\n",
              "    </tr>\n",
              "    <tr>\n",
              "      <th>125</th>\n",
              "      <td>3876.0</td>\n",
              "      <td>1.0</td>\n",
              "      <td>0.0</td>\n",
              "      <td>0.0</td>\n",
              "      <td>1.0</td>\n",
              "      <td>0.0</td>\n",
              "      <td>49.0</td>\n",
              "      <td>13.0</td>\n",
              "      <td>36.0</td>\n",
              "      <td>0.0</td>\n",
              "      <td>Wilcox</td>\n",
              "      <td>13315</td>\n",
              "      <td>Wilcox County</td>\n",
              "    </tr>\n",
              "    <tr>\n",
              "      <th>126</th>\n",
              "      <td>4357.0</td>\n",
              "      <td>9.0</td>\n",
              "      <td>0.0</td>\n",
              "      <td>0.0</td>\n",
              "      <td>0.0</td>\n",
              "      <td>9.0</td>\n",
              "      <td>49.0</td>\n",
              "      <td>14.0</td>\n",
              "      <td>33.0</td>\n",
              "      <td>2.0</td>\n",
              "      <td>Wilkinson</td>\n",
              "      <td>13319</td>\n",
              "      <td>Wilkinson County</td>\n",
              "    </tr>\n",
              "    <tr>\n",
              "      <th>127</th>\n",
              "      <td>393.0</td>\n",
              "      <td>0.0</td>\n",
              "      <td>0.0</td>\n",
              "      <td>0.0</td>\n",
              "      <td>0.0</td>\n",
              "      <td>0.0</td>\n",
              "      <td>3.0</td>\n",
              "      <td>1.0</td>\n",
              "      <td>2.0</td>\n",
              "      <td>0.0</td>\n",
              "      <td>Worth</td>\n",
              "      <td>13321</td>\n",
              "      <td>Worth County</td>\n",
              "    </tr>\n",
              "  </tbody>\n",
              "</table>\n",
              "<p>128 rows × 13 columns</p>\n",
              "</div>"
            ],
            "text/plain": [
              "     population  violent_crime  murder  ...     County   fips   County_fullname\n",
              "0        5013.0           73.0     1.0  ...    Appling  13001    Appling County\n",
              "1        1373.0            3.0     0.0  ...   Atkinson  13003   Atkinson County\n",
              "2        3486.0           25.0     1.0  ...      Bacon  13005      Bacon County\n",
              "3         593.0            0.0     0.0  ...      Baker  13007      Baker County\n",
              "4       18620.0           66.0     0.0  ...    Baldwin  13009    Baldwin County\n",
              "..          ...            ...     ...  ...        ...    ...               ...\n",
              "123      4503.0           11.0     0.0  ...      White  13311      White County\n",
              "124     34704.0           93.0     0.0  ...  Whitfield  13313  Whitfield County\n",
              "125      3876.0            1.0     0.0  ...     Wilcox  13315     Wilcox County\n",
              "126      4357.0            9.0     0.0  ...  Wilkinson  13319  Wilkinson County\n",
              "127       393.0            0.0     0.0  ...      Worth  13321      Worth County\n",
              "\n",
              "[128 rows x 13 columns]"
            ]
          },
          "metadata": {
            "tags": []
          },
          "execution_count": 177
        }
      ]
    },
    {
      "cell_type": "code",
      "metadata": {
        "id": "iwukgkqmzuWG",
        "outputId": "8926596f-039e-4aa9-c972-b8bc0d3be423",
        "colab": {
          "base_uri": "https://localhost:8080/",
          "height": 419
        }
      },
      "source": [
        "# Calculating the proportion of case by population\n",
        "case_df_perpop['violent_crime'] = case_df_perpop['violent_crime']*100/case_df_perpop['population']\n",
        "case_df_perpop = case_df_perpop.rename(columns={\"violent_crime\" : \"Percent of Violent Crime by Population\"})\n",
        "\n",
        "# Data when mouse hovered\n",
        "hover_data = ['County_fullname','Percent of Violent Crime by Population']\n",
        "\n",
        "case_df"
      ],
      "execution_count": 178,
      "outputs": [
        {
          "output_type": "execute_result",
          "data": {
            "text/html": [
              "<div>\n",
              "<style scoped>\n",
              "    .dataframe tbody tr th:only-of-type {\n",
              "        vertical-align: middle;\n",
              "    }\n",
              "\n",
              "    .dataframe tbody tr th {\n",
              "        vertical-align: top;\n",
              "    }\n",
              "\n",
              "    .dataframe thead th {\n",
              "        text-align: right;\n",
              "    }\n",
              "</style>\n",
              "<table border=\"1\" class=\"dataframe\">\n",
              "  <thead>\n",
              "    <tr style=\"text-align: right;\">\n",
              "      <th></th>\n",
              "      <th>population</th>\n",
              "      <th>violent_crime</th>\n",
              "      <th>murder</th>\n",
              "      <th>rape</th>\n",
              "      <th>robbery</th>\n",
              "      <th>assault</th>\n",
              "      <th>property</th>\n",
              "      <th>burglary</th>\n",
              "      <th>larceny</th>\n",
              "      <th>vehicle_theft</th>\n",
              "      <th>County</th>\n",
              "      <th>fips</th>\n",
              "      <th>County_fullname</th>\n",
              "    </tr>\n",
              "  </thead>\n",
              "  <tbody>\n",
              "    <tr>\n",
              "      <th>0</th>\n",
              "      <td>5013.0</td>\n",
              "      <td>1.456214</td>\n",
              "      <td>1.0</td>\n",
              "      <td>3.0</td>\n",
              "      <td>8.0</td>\n",
              "      <td>61.0</td>\n",
              "      <td>388.0</td>\n",
              "      <td>67.0</td>\n",
              "      <td>293.0</td>\n",
              "      <td>28.0</td>\n",
              "      <td>Appling</td>\n",
              "      <td>13001</td>\n",
              "      <td>Appling County</td>\n",
              "    </tr>\n",
              "    <tr>\n",
              "      <th>1</th>\n",
              "      <td>1373.0</td>\n",
              "      <td>0.218500</td>\n",
              "      <td>0.0</td>\n",
              "      <td>0.0</td>\n",
              "      <td>1.0</td>\n",
              "      <td>2.0</td>\n",
              "      <td>31.0</td>\n",
              "      <td>13.0</td>\n",
              "      <td>18.0</td>\n",
              "      <td>0.0</td>\n",
              "      <td>Atkinson</td>\n",
              "      <td>13003</td>\n",
              "      <td>Atkinson County</td>\n",
              "    </tr>\n",
              "    <tr>\n",
              "      <th>2</th>\n",
              "      <td>3486.0</td>\n",
              "      <td>0.717154</td>\n",
              "      <td>1.0</td>\n",
              "      <td>0.0</td>\n",
              "      <td>3.0</td>\n",
              "      <td>21.0</td>\n",
              "      <td>198.0</td>\n",
              "      <td>65.0</td>\n",
              "      <td>123.0</td>\n",
              "      <td>10.0</td>\n",
              "      <td>Bacon</td>\n",
              "      <td>13005</td>\n",
              "      <td>Bacon County</td>\n",
              "    </tr>\n",
              "    <tr>\n",
              "      <th>3</th>\n",
              "      <td>593.0</td>\n",
              "      <td>0.000000</td>\n",
              "      <td>0.0</td>\n",
              "      <td>0.0</td>\n",
              "      <td>0.0</td>\n",
              "      <td>0.0</td>\n",
              "      <td>1.0</td>\n",
              "      <td>0.0</td>\n",
              "      <td>1.0</td>\n",
              "      <td>0.0</td>\n",
              "      <td>Baker</td>\n",
              "      <td>13007</td>\n",
              "      <td>Baker County</td>\n",
              "    </tr>\n",
              "    <tr>\n",
              "      <th>4</th>\n",
              "      <td>18620.0</td>\n",
              "      <td>0.354458</td>\n",
              "      <td>0.0</td>\n",
              "      <td>5.0</td>\n",
              "      <td>17.0</td>\n",
              "      <td>44.0</td>\n",
              "      <td>764.0</td>\n",
              "      <td>103.0</td>\n",
              "      <td>617.0</td>\n",
              "      <td>44.0</td>\n",
              "      <td>Baldwin</td>\n",
              "      <td>13009</td>\n",
              "      <td>Baldwin County</td>\n",
              "    </tr>\n",
              "    <tr>\n",
              "      <th>...</th>\n",
              "      <td>...</td>\n",
              "      <td>...</td>\n",
              "      <td>...</td>\n",
              "      <td>...</td>\n",
              "      <td>...</td>\n",
              "      <td>...</td>\n",
              "      <td>...</td>\n",
              "      <td>...</td>\n",
              "      <td>...</td>\n",
              "      <td>...</td>\n",
              "      <td>...</td>\n",
              "      <td>...</td>\n",
              "      <td>...</td>\n",
              "    </tr>\n",
              "    <tr>\n",
              "      <th>123</th>\n",
              "      <td>4503.0</td>\n",
              "      <td>0.244282</td>\n",
              "      <td>0.0</td>\n",
              "      <td>2.0</td>\n",
              "      <td>0.0</td>\n",
              "      <td>9.0</td>\n",
              "      <td>257.0</td>\n",
              "      <td>22.0</td>\n",
              "      <td>232.0</td>\n",
              "      <td>3.0</td>\n",
              "      <td>White</td>\n",
              "      <td>13311</td>\n",
              "      <td>White County</td>\n",
              "    </tr>\n",
              "    <tr>\n",
              "      <th>124</th>\n",
              "      <td>34704.0</td>\n",
              "      <td>0.267981</td>\n",
              "      <td>0.0</td>\n",
              "      <td>11.0</td>\n",
              "      <td>21.0</td>\n",
              "      <td>61.0</td>\n",
              "      <td>1003.0</td>\n",
              "      <td>122.0</td>\n",
              "      <td>800.0</td>\n",
              "      <td>81.0</td>\n",
              "      <td>Whitfield</td>\n",
              "      <td>13313</td>\n",
              "      <td>Whitfield County</td>\n",
              "    </tr>\n",
              "    <tr>\n",
              "      <th>125</th>\n",
              "      <td>3876.0</td>\n",
              "      <td>0.025800</td>\n",
              "      <td>0.0</td>\n",
              "      <td>0.0</td>\n",
              "      <td>1.0</td>\n",
              "      <td>0.0</td>\n",
              "      <td>49.0</td>\n",
              "      <td>13.0</td>\n",
              "      <td>36.0</td>\n",
              "      <td>0.0</td>\n",
              "      <td>Wilcox</td>\n",
              "      <td>13315</td>\n",
              "      <td>Wilcox County</td>\n",
              "    </tr>\n",
              "    <tr>\n",
              "      <th>126</th>\n",
              "      <td>4357.0</td>\n",
              "      <td>0.206564</td>\n",
              "      <td>0.0</td>\n",
              "      <td>0.0</td>\n",
              "      <td>0.0</td>\n",
              "      <td>9.0</td>\n",
              "      <td>49.0</td>\n",
              "      <td>14.0</td>\n",
              "      <td>33.0</td>\n",
              "      <td>2.0</td>\n",
              "      <td>Wilkinson</td>\n",
              "      <td>13319</td>\n",
              "      <td>Wilkinson County</td>\n",
              "    </tr>\n",
              "    <tr>\n",
              "      <th>127</th>\n",
              "      <td>393.0</td>\n",
              "      <td>0.000000</td>\n",
              "      <td>0.0</td>\n",
              "      <td>0.0</td>\n",
              "      <td>0.0</td>\n",
              "      <td>0.0</td>\n",
              "      <td>3.0</td>\n",
              "      <td>1.0</td>\n",
              "      <td>2.0</td>\n",
              "      <td>0.0</td>\n",
              "      <td>Worth</td>\n",
              "      <td>13321</td>\n",
              "      <td>Worth County</td>\n",
              "    </tr>\n",
              "  </tbody>\n",
              "</table>\n",
              "<p>128 rows × 13 columns</p>\n",
              "</div>"
            ],
            "text/plain": [
              "     population  violent_crime  murder  ...     County   fips   County_fullname\n",
              "0        5013.0       1.456214     1.0  ...    Appling  13001    Appling County\n",
              "1        1373.0       0.218500     0.0  ...   Atkinson  13003   Atkinson County\n",
              "2        3486.0       0.717154     1.0  ...      Bacon  13005      Bacon County\n",
              "3         593.0       0.000000     0.0  ...      Baker  13007      Baker County\n",
              "4       18620.0       0.354458     0.0  ...    Baldwin  13009    Baldwin County\n",
              "..          ...            ...     ...  ...        ...    ...               ...\n",
              "123      4503.0       0.244282     0.0  ...      White  13311      White County\n",
              "124     34704.0       0.267981     0.0  ...  Whitfield  13313  Whitfield County\n",
              "125      3876.0       0.025800     0.0  ...     Wilcox  13315     Wilcox County\n",
              "126      4357.0       0.206564     0.0  ...  Wilkinson  13319  Wilkinson County\n",
              "127       393.0       0.000000     0.0  ...      Worth  13321      Worth County\n",
              "\n",
              "[128 rows x 13 columns]"
            ]
          },
          "metadata": {
            "tags": []
          },
          "execution_count": 178
        }
      ]
    },
    {
      "cell_type": "markdown",
      "metadata": {
        "id": "boNonPMz_t3g"
      },
      "source": [
        "# **Percent of Violent Crime by Population in Georgia by County in 2018**"
      ]
    },
    {
      "cell_type": "code",
      "metadata": {
        "id": "I5oHBhP2sQO7",
        "outputId": "2df6f2c0-2f25-4192-e419-95c00e70ec40",
        "colab": {
          "base_uri": "https://localhost:8080/",
          "height": 542
        }
      },
      "source": [
        "# Generating Heatmaps\n",
        "fig = px.choropleth(case_df_perpop,geojson=ga_counties, locations='fips',\n",
        "                    color='Percent of Violent Crime by Population', color_continuous_scale=\"Viridis\",\n",
        "                    range_color=(0,1.5),scope = 'usa',hover_data=hover_data,\n",
        "                    labels={'City':'Percent of Violent Crime by Population\"'}, center = {\"lat\": 33.247875, \"lon\": -83.441162},\n",
        "                    title='Percent of Violent Crime in Georgia Counties in 2018 by Population')\n",
        "fig.update_layout(margin={\"r\":0,\"t\":0,\"l\":0,\"b\":0})\n",
        "fig.show()"
      ],
      "execution_count": 180,
      "outputs": [
        {
          "output_type": "display_data",
          "data": {
            "text/html": [
              "<html>\n",
              "<head><meta charset=\"utf-8\" /></head>\n",
              "<body>\n",
              "    <div>            <script src=\"https://cdnjs.cloudflare.com/ajax/libs/mathjax/2.7.5/MathJax.js?config=TeX-AMS-MML_SVG\"></script><script type=\"text/javascript\">if (window.MathJax) {MathJax.Hub.Config({SVG: {font: \"STIX-Web\"}});}</script>                <script type=\"text/javascript\">window.PlotlyConfig = {MathJaxConfig: 'local'};</script>\n",
              "        <script src=\"https://cdn.plot.ly/plotly-latest.min.js\"></script>                <div id=\"b403b4c8-696a-447b-906e-7843ee8d552b\" class=\"plotly-graph-div\" style=\"height:525px; width:100%;\"></div>            <script type=\"text/javascript\">                                    window.PLOTLYENV=window.PLOTLYENV || {};                                    if (document.getElementById(\"b403b4c8-696a-447b-906e-7843ee8d552b\")) {                    Plotly.newPlot(                        \"b403b4c8-696a-447b-906e-7843ee8d552b\",                        [{\"coloraxis\": \"coloraxis\", \"customdata\": [[\"Appling County\", 1.4562138440055854], [\"Atkinson County\", 0.21849963583394028], [\"Bacon County\", 0.7171543316121629], [\"Baker County\", 0.0], [\"Baldwin County\", 0.3544575725026853], [\"Banks County\", 0.10224948875255624], [\"Barrow County\", 0.13425393172228614], [\"Bartow County\", 0.2799552071668533], [\"Ben Hill County\", 0.49579153695376454], [\"Berrien County\", 0.6848272713437833], [\"Bleckley County\", 0.22531749283080704], [\"Brantley County\", 0.0], [\"Bryan County\", 0.19372336303758234], [\"Bulloch County\", 0.3346680212753242], [\"Burke County\", 0.43367728428293706], [\"Butts County\", 0.3528719858851206], [\"Calhoun County\", 0.1465845793022574], [\"Candler County\", 0.17583521728208992], [\"Carroll County\", 0.45201056648077487], [\"Catoosa County\", 0.46625222024866786], [\"Charlton County\", 0.30504216759375563], [\"Chatham County\", 0.36924093058551566], [\"Chattooga County\", 0.0], [\"Cherokee County\", 0.10387766104324729], [\"Clarke County\", 0.0], [\"Clayton County\", 0.7158765510658607], [\"Clinch County\", 0.6265664160401002], [\"Cobb County\", 0.24896930714396637], [\"Colquitt County\", 0.47904191616766467], [\"Columbia County\", 0.12389480204989582], [\"Cook County\", 0.4970178926441352], [\"Coweta County\", 0.402681733850565], [\"Crawford County\", 0.6185567010309279], [\"Crisp County\", 0.5998687787046584], [\"Dade County\", 0.2697841726618705], [\"DeKalb County\", 0.28513839044294775], [\"Decatur County\", 0.7302198683999358], [\"Dodge County\", 0.833664152441445], [\"Dooly County\", 0.4914004914004914], [\"Dougherty County\", 1.114417169463041], [\"Douglas County\", 0.5663810306373988], [\"Early County\", 0.8907234412339778], [\"Effingham County\", 0.14756517461878996], [\"Elbert County\", 0.9069767441860465], [\"Emanuel County\", 0.7147335423197492], [\"Evans County\", 0.12414649286157665], [\"Fannin County\", 0.2820874471086037], [\"Fayette County\", 0.07893957833108575], [\"Floyd County\", 0.3536693191865606], [\"Franklin County\", 0.4813477737665463], [\"Fulton County\", 0.5371888953378118], [\"Gilmer County\", 0.4770164787510841], [\"Glynn County\", 1.0650599476599112], [\"Grady County\", 0.22323801424471137], [\"Greene County\", 0.5963029218843172], [\"Gwinnett County\", 0.2288512911843277], [\"Habersham County\", 0.25851244552773467], [\"Hall County\", 0.3620537640459977], [\"Hancock County\", 0.487012987012987], [\"Haralson County\", 0.3710230961877377], [\"Harris County\", 0.15296367112810708], [\"Hart County\", 0.6714413607878246], [\"Heard County\", 0.0], [\"Henry County\", 0.16564601947595622], [\"Houston County\", 0.5691144579035021], [\"Irwin County\", 0.5474952094169176], [\"Jackson County\", 0.15741586122217674], [\"Jeff Davis County\", 0.41033067825247405], [\"Jefferson County\", 0.7073531830893239], [\"Jenkins County\", 1.0834236186348862], [\"Jones County\", 0.18820577164366373], [\"Laurens County\", 0.8060421426758061], [\"Liberty County\", 0.42058597857284946], [\"Long County\", 0.1310615989515072], [\"Lowndes County\", 0.4004805766920304], [\"Macon County\", 0.5250596658711217], [\"Madison County\", 0.0], [\"McIntosh County\", 0.04124561765312436], [\"Meriwether County\", 0.4036133000192197], [\"Miller County\", 0.644122383252818], [\"Mitchell County\", 0.5863726984871585], [\"Monroe County\", 0.2694757471827536], [\"Montgomery County\", 0.0], [\"Morgan County\", 0.26842362127867253], [\"Murray County\", 0.15313935681470137], [\"Newton County\", 0.3347942537131726], [\"Paulding County\", 0.2621889992190115], [\"Peach County\", 0.6818344936481734], [\"Pickens County\", 0.28234086242299794], [\"Pierce County\", 0.9075439591605219], [\"Pike County\", 0.0], [\"Polk County\", 0.6262508877267738], [\"Putnam County\", 0.5140610825521621], [\"Rabun County\", 0.26961445133459155], [\"Randolph County\", 0.02789400278940028], [\"Richmond County\", 0.0], [\"Schley County\", 0.5336179295624333], [\"Screven County\", 0.5343197698314838], [\"Seminole County\", 0.07923930269413629], [\"Spalding County\", 1.1494252873563218], [\"Stephens County\", 0.4332129963898917], [\"Stewart County\", 0.0], [\"Sumter County\", 0.8050144410987525], [\"Talbot County\", 0.830367734282325], [\"Tattnall County\", 0.07869368483179225], [\"Taylor County\", 0.0], [\"Telfair County\", 0.0], [\"Terrell County\", 0.43870338776504997], [\"Thomas County\", 0.17340129262781778], [\"Tift County\", 0.5733005733005733], [\"Toombs County\", 0.5077173030056864], [\"Towns County\", 0.5458515283842795], [\"Troup County\", 0.42407916144346947], [\"Turner County\", 0.883245928788297], [\"Union County\", 0.0], [\"Upson County\", 0.5285533724003217], [\"Walker County\", 0.29576489837014663], [\"Walton County\", 0.5417357656163626], [\"Ware County\", 0.5155762108779319], [\"Warren County\", 0.8168028004667445], [\"Washington County\", 0.3040834057341442], [\"Wayne County\", 0.3712105588781192], [\"Wheeler County\", 0.029342723004694836], [\"White County\", 0.24428159005107705], [\"Whitfield County\", 0.26798063623789764], [\"Wilcox County\", 0.025799793601651185], [\"Wilkinson County\", 0.20656414964425063], [\"Worth County\", 0.0]], \"geo\": \"geo\", \"geojson\": {\"features\": [{\"geometry\": {\"coordinates\": [[[-82.52142, 31.710796], [-82.520251, 31.838388], [-82.431362, 31.837993], [-82.431531, 31.966182], [-82.225042, 31.913074], [-82.142843, 31.8993], [-82.048582, 31.827075], [-82.133013, 31.773404], [-82.132794, 31.471262], [-82.226585, 31.530699], [-82.52142, 31.710796]]], \"type\": \"Polygon\"}, \"id\": \"13001\", \"properties\": {\"CENSUSAREA\": 507.081, \"COUNTY\": \"001\", \"GEO_ID\": \"0500000US13001\", \"LSAD\": \"County\", \"NAME\": \"Appling\", \"STATE\": \"13\"}, \"type\": \"Feature\"}, {\"geometry\": {\"coordinates\": [[[-83.647031, 33.906198], [-83.763835, 33.896682], [-83.799104, 33.929844], [-83.869115, 34.004316], [-83.817682, 34.127493], [-83.767532, 34.066448], [-83.563215, 34.031757], [-83.537385, 33.965912], [-83.647031, 33.906198]]], \"type\": \"Polygon\"}, \"id\": \"13013\", \"properties\": {\"CENSUSAREA\": 160.309, \"COUNTY\": \"013\", \"GEO_ID\": \"0500000US13013\", \"LSAD\": \"County\", \"NAME\": \"Barrow\", \"STATE\": \"13\"}, \"type\": \"Feature\"}, {\"geometry\": {\"coordinates\": [[[-81.391698, 32.095886], [-81.323529, 32.019854], [-81.285467, 31.942994], [-81.138533, 31.855921], [-81.177027, 31.816113], [-81.154686, 31.726203], [-81.16067, 31.728144], [-81.192784, 31.733245], [-81.198394, 31.72607], [-81.355837, 31.8149], [-81.407737, 31.944302], [-81.475761, 31.974255], [-81.593429, 31.97135], [-81.604431, 32.010948], [-81.718658, 32.089351], [-81.780858, 32.15289], [-81.43583, 32.241289], [-81.391698, 32.095886]]], \"type\": \"Polygon\"}, \"id\": \"13029\", \"properties\": {\"CENSUSAREA\": 435.967, \"COUNTY\": \"029\", \"GEO_ID\": \"0500000US13029\", \"LSAD\": \"County\", \"NAME\": \"Bryan\", \"STATE\": \"13\"}, \"type\": \"Feature\"}, {\"geometry\": {\"coordinates\": [[[-81.969069, 32.268783], [-81.999843, 32.276189], [-82.025339, 32.278883], [-82.232788, 32.318838], [-82.252757, 32.35331], [-82.148338, 32.520429], [-82.030233, 32.53877], [-81.918671, 32.41541], [-81.969069, 32.268783]]], \"type\": \"Polygon\"}, \"id\": \"13043\", \"properties\": {\"CENSUSAREA\": 243.044, \"COUNTY\": \"043\", \"GEO_ID\": \"0500000US13043\", \"LSAD\": \"County\", \"NAME\": \"Candler\", \"STATE\": \"13\"}, \"type\": \"Feature\"}, {\"geometry\": {\"coordinates\": [[[-85.513699, 34.524133], [-85.513709, 34.52417], [-85.51393, 34.525192], [-85.527127, 34.588684], [-85.107748, 34.587483], [-85.180548, 34.435996], [-85.334881, 34.369748], [-85.387351, 34.286097], [-85.462304, 34.286365], [-85.502316, 34.473954], [-85.502454, 34.474527], [-85.508384, 34.501212], [-85.512108, 34.518252], [-85.513699, 34.524133]]], \"type\": \"Polygon\"}, \"id\": \"13055\", \"properties\": {\"CENSUSAREA\": 313.338, \"COUNTY\": \"055\", \"GEO_ID\": \"0500000US13055\", \"LSAD\": \"County\", \"NAME\": \"Chattooga\", \"STATE\": \"13\"}, \"type\": \"Feature\"}, {\"geometry\": {\"coordinates\": [[[-83.360028, 34.040572], [-83.258413, 33.999098], [-83.24086, 33.90443], [-83.275933, 33.847977], [-83.537385, 33.965912], [-83.360028, 34.040572]]], \"type\": \"Polygon\"}, \"id\": \"13059\", \"properties\": {\"CENSUSAREA\": 119.2, \"COUNTY\": \"059\", \"GEO_ID\": \"0500000US13059\", \"LSAD\": \"County\", \"NAME\": \"Clarke\", \"STATE\": \"13\"}, \"type\": \"Feature\"}, {\"geometry\": {\"coordinates\": [[[-83.99943, 31.334966], [-83.65409, 31.330661], [-83.512607, 31.327405], [-83.50981, 31.206181], [-83.574857, 31.078135], [-83.573959, 31.033875], [-83.736158, 31.037679], [-84.003876, 31.041582], [-84.003627, 31.07729], [-83.99943, 31.334966]]], \"type\": \"Polygon\"}, \"id\": \"13071\", \"properties\": {\"CENSUSAREA\": 544.153, \"COUNTY\": \"071\", \"GEO_ID\": \"0500000US13071\", \"LSAD\": \"County\", \"NAME\": \"Colquitt\", \"STATE\": \"13\"}, \"type\": \"Feature\"}, {\"geometry\": {\"coordinates\": [[[-83.70109, 32.691598], [-83.766787, 32.692622], [-84.003363, 32.529927], [-84.104966, 32.673385], [-84.202628, 32.690018], [-84.124275, 32.849562], [-83.891922, 32.848351], [-83.824398, 32.741861], [-83.701152, 32.692169], [-83.70109, 32.691598]]], \"type\": \"Polygon\"}, \"id\": \"13079\", \"properties\": {\"CENSUSAREA\": 324.888, \"COUNTY\": \"079\", \"GEO_ID\": \"0500000US13079\", \"LSAD\": \"County\", \"NAME\": \"Crawford\", \"STATE\": \"13\"}, \"type\": \"Feature\"}, {\"geometry\": {\"coordinates\": [[[-83.346528, 32.272489], [-83.30475, 32.341958], [-83.173252, 32.452533], [-83.138991, 32.423069], [-82.990967, 32.147274], [-82.884803, 32.196072], [-82.87179, 32.18273], [-82.927865, 32.135274], [-82.934566, 32.153274], [-82.955466, 32.135274], [-82.942066, 32.124074], [-83.205739, 31.900325], [-83.292061, 31.984506], [-83.337313, 32.105885], [-83.291106, 32.178825], [-83.346528, 32.272489]]], \"type\": \"Polygon\"}, \"id\": \"13091\", \"properties\": {\"CENSUSAREA\": 495.89, \"COUNTY\": \"091\", \"GEO_ID\": \"0500000US13091\", \"LSAD\": \"County\", \"NAME\": \"Dodge\", \"STATE\": \"13\"}, \"type\": \"Feature\"}, {\"geometry\": {\"coordinates\": [[[-82.647733, 32.512507], [-82.594439, 32.579158], [-82.465065, 32.646833], [-82.499431, 32.68634], [-82.434149, 32.762258], [-82.316512, 32.835772], [-82.144977, 32.812741], [-82.08244, 32.663061], [-82.001236, 32.60691], [-82.026842, 32.555163], [-82.030233, 32.53877], [-82.148338, 32.520429], [-82.252757, 32.35331], [-82.232788, 32.318838], [-82.354546, 32.292194], [-82.409118, 32.35383], [-82.38194, 32.440596], [-82.488941, 32.49183], [-82.647733, 32.512507]]], \"type\": \"Polygon\"}, \"id\": \"13107\", \"properties\": {\"CENSUSAREA\": 680.604, \"COUNTY\": \"107\", \"GEO_ID\": \"0500000US13107\", \"LSAD\": \"County\", \"NAME\": \"Emanuel\", \"STATE\": \"13\"}, \"type\": \"Feature\"}, {\"geometry\": {\"coordinates\": [[[-84.497527, 33.257422], [-84.62722, 33.440078], [-84.60954, 33.502511], [-84.458665, 33.550933], [-84.381759, 33.463414], [-84.388118, 33.352465], [-84.432907, 33.2565], [-84.497527, 33.257422]]], \"type\": \"Polygon\"}, \"id\": \"13113\", \"properties\": {\"CENSUSAREA\": 194.342, \"COUNTY\": \"113\", \"GEO_ID\": \"0500000US13113\", \"LSAD\": \"County\", \"NAME\": \"Fayette\", \"STATE\": \"13\"}, \"type\": \"Feature\"}, {\"geometry\": {\"coordinates\": [[[-84.654366, 34.548946], [-84.654523, 34.583187], [-84.657098, 34.728905], [-84.582306, 34.825141], [-84.618637, 34.855398], [-84.429093, 34.855036], [-84.314653, 34.807328], [-84.196754, 34.617924], [-84.255112, 34.568333], [-84.345553, 34.562735], [-84.654366, 34.548946]]], \"type\": \"Polygon\"}, \"id\": \"13123\", \"properties\": {\"CENSUSAREA\": 426.54, \"COUNTY\": \"123\", \"GEO_ID\": \"0500000US13123\", \"LSAD\": \"County\", \"NAME\": \"Gilmer\", \"STATE\": \"13\"}, \"type\": \"Feature\"}, {\"geometry\": {\"coordinates\": [[[-82.655486, 32.297561], [-82.612876, 32.161549], [-82.598068, 32.014429], [-82.543655, 31.958914], [-82.645659, 31.918883], [-82.729112, 32.006878], [-82.887657, 32.079891], [-82.927865, 32.135274], [-82.87179, 32.18273], [-82.884803, 32.196072], [-82.721964, 32.309283], [-82.655486, 32.297561]]], \"type\": \"Polygon\"}, \"id\": \"13309\", \"properties\": {\"CENSUSAREA\": 295.484, \"COUNTY\": \"309\", \"GEO_ID\": \"0500000US13309\", \"LSAD\": \"County\", \"NAME\": \"Wheeler\", \"STATE\": \"13\"}, \"type\": \"Feature\"}, {\"geometry\": {\"coordinates\": [[[-84.97986, 34.987647], [-84.976973, 34.987669], [-84.955623, 34.98783], [-84.94442, 34.987864], [-84.939306, 34.987916], [-84.861314, 34.987791], [-84.858032, 34.987746], [-84.831799, 34.988004], [-84.82401, 34.987707], [-84.820478, 34.987913], [-84.817279, 34.987753], [-84.810742, 34.987615], [-84.810477, 34.987607], [-84.818715, 34.87695], [-84.878499, 34.77961], [-84.864945, 34.707356], [-84.933722, 34.706799], [-84.913456, 34.634128], [-85.050446, 34.622482], [-85.050847, 34.71998], [-85.168851, 34.720279], [-85.144789, 34.767639], [-85.061648, 34.819478], [-84.97986, 34.987647]]], \"type\": \"Polygon\"}, \"id\": \"13313\", \"properties\": {\"CENSUSAREA\": 290.464, \"COUNTY\": \"313\", \"GEO_ID\": \"0500000US13313\", \"LSAD\": \"County\", \"NAME\": \"Whitfield\", \"STATE\": \"13\"}, \"type\": \"Feature\"}, {\"geometry\": {\"coordinates\": [[[-83.357685, 32.926141], [-83.159585, 33.002803], [-83.073648, 32.946562], [-82.946966, 32.759358], [-82.946366, 32.741258], [-82.957066, 32.708318], [-82.95757, 32.708198], [-83.226536, 32.584201], [-83.40699, 32.89822], [-83.40682, 32.898446], [-83.357685, 32.926141]]], \"type\": \"Polygon\"}, \"id\": \"13319\", \"properties\": {\"CENSUSAREA\": 447.308, \"COUNTY\": \"319\", \"GEO_ID\": \"0500000US13319\", \"LSAD\": \"County\", \"NAME\": \"Wilkinson\", \"STATE\": \"13\"}, \"type\": \"Feature\"}, {\"geometry\": {\"coordinates\": [[[-82.431957, 33.27483], [-82.661917, 33.126331], [-82.748311, 33.238348], [-82.747238, 33.247663], [-82.755846, 33.25344], [-82.559753, 33.32727], [-82.431957, 33.27483]]], \"type\": \"Polygon\"}, \"id\": \"13125\", \"properties\": {\"CENSUSAREA\": 143.74, \"COUNTY\": \"125\", \"GEO_ID\": \"0500000US13125\", \"LSAD\": \"County\", \"NAME\": \"Glascock\", \"STATE\": \"13\"}, \"type\": \"Feature\"}, {\"geometry\": {\"coordinates\": [[[-84.654523, 34.583187], [-84.654366, 34.548946], [-84.653232, 34.41259], [-84.862863, 34.396601], [-85.005775, 34.392446], [-85.086761, 34.401264], [-85.069159, 34.587184], [-85.060499, 34.587184], [-85.06038, 34.62245], [-85.055206, 34.622383], [-85.055095, 34.62239], [-85.050446, 34.622482], [-84.913456, 34.634128], [-84.863793, 34.608597], [-84.716498, 34.6229], [-84.654523, 34.583187]]], \"type\": \"Polygon\"}, \"id\": \"13129\", \"properties\": {\"CENSUSAREA\": 355.808, \"COUNTY\": \"129\", \"GEO_ID\": \"0500000US13129\", \"LSAD\": \"County\", \"NAME\": \"Gordon\", \"STATE\": \"13\"}, \"type\": \"Feature\"}, {\"geometry\": {\"coordinates\": [[[-84.380719, 30.689673], [-84.376612, 31.078883], [-84.116644, 31.077971], [-84.119058, 30.980956], [-84.076964, 30.91557], [-84.083753, 30.675954], [-84.28121, 30.685256], [-84.282562, 30.685316], [-84.380719, 30.689673]]], \"type\": \"Polygon\"}, \"id\": \"13131\", \"properties\": {\"CENSUSAREA\": 454.527, \"COUNTY\": \"131\", \"GEO_ID\": \"0500000US13131\", \"LSAD\": \"County\", \"NAME\": \"Grady\", \"STATE\": \"13\"}, \"type\": \"Feature\"}, {\"geometry\": {\"coordinates\": [[[-84.062841, 34.167873], [-83.989059, 34.195732], [-83.927284, 34.279399], [-83.957077, 34.334011], [-83.980649, 34.418389], [-83.843405, 34.505494], [-83.666413, 34.503598], [-83.615251, 34.431748], [-83.669473, 34.366689], [-83.620115, 34.295276], [-83.817682, 34.127493], [-83.86803, 34.098281], [-84.062841, 34.167873]]], \"type\": \"Polygon\"}, \"id\": \"13139\", \"properties\": {\"CENSUSAREA\": 392.782, \"COUNTY\": \"139\", \"GEO_ID\": \"0500000US13139\", \"LSAD\": \"County\", \"NAME\": \"Hall\", \"STATE\": \"13\"}, \"type\": \"Feature\"}, {\"geometry\": {\"coordinates\": [[[-83.360028, 34.040572], [-83.537385, 33.965912], [-83.563215, 34.031757], [-83.767532, 34.066448], [-83.817682, 34.127493], [-83.620115, 34.295276], [-83.480361, 34.262038], [-83.402428, 34.197499], [-83.360028, 34.040572]]], \"type\": \"Polygon\"}, \"id\": \"13157\", \"properties\": {\"CENSUSAREA\": 339.663, \"COUNTY\": \"157\", \"GEO_ID\": \"0500000US13157\", \"LSAD\": \"County\", \"NAME\": \"Jackson\", \"STATE\": \"13\"}, \"type\": \"Feature\"}, {\"geometry\": {\"coordinates\": [[[-83.357685, 32.926141], [-83.40682, 32.898446], [-83.40699, 32.89822], [-83.407668, 32.897822], [-83.513511, 32.844868], [-83.658211, 32.887913], [-83.710685, 32.952792], [-83.747004, 33.063373], [-83.816048, 33.131816], [-83.545876, 33.171944], [-83.42909, 33.185352], [-83.414997, 33.112833], [-83.380383, 32.998077], [-83.357685, 32.926141]]], \"type\": \"Polygon\"}, \"id\": \"13169\", \"properties\": {\"CENSUSAREA\": 393.933, \"COUNTY\": \"169\", \"GEO_ID\": \"0500000US13169\", \"LSAD\": \"County\", \"NAME\": \"Jones\", \"STATE\": \"13\"}, \"type\": \"Feature\"}, {\"geometry\": {\"coordinates\": [[[-83.226536, 32.584201], [-82.95757, 32.708198], [-82.957066, 32.708318], [-82.862763, 32.71576], [-82.668557, 32.612164], [-82.647733, 32.512507], [-82.737137, 32.33803], [-82.721964, 32.309283], [-82.884803, 32.196072], [-82.990967, 32.147274], [-83.138991, 32.423069], [-83.226536, 32.584201]]], \"type\": \"Polygon\"}, \"id\": \"13175\", \"properties\": {\"CENSUSAREA\": 807.296, \"COUNTY\": \"175\", \"GEO_ID\": \"0500000US13175\", \"LSAD\": \"County\", \"NAME\": \"Laurens\", \"STATE\": \"13\"}, \"type\": \"Feature\"}, {\"geometry\": {\"coordinates\": [[[-83.843405, 34.505494], [-83.980649, 34.418389], [-84.102037, 34.464544], [-84.19104, 34.539181], [-84.188557, 34.602692], [-84.158035, 34.648243], [-84.03651, 34.641934], [-83.939007, 34.740859], [-83.856506, 34.722191], [-83.877276, 34.629597], [-83.843405, 34.505494]]], \"type\": \"Polygon\"}, \"id\": \"13187\", \"properties\": {\"CENSUSAREA\": 282.933, \"COUNTY\": \"187\", \"GEO_ID\": \"0500000US13187\", \"LSAD\": \"County\", \"NAME\": \"Lumpkin\", \"STATE\": \"13\"}, \"type\": \"Feature\"}, {\"geometry\": {\"coordinates\": [[[-84.649319, 32.232953], [-84.65892, 32.232852], [-84.657325, 32.49494], [-84.637323, 32.534855], [-84.444353, 32.562083], [-84.392316, 32.414046], [-84.430215, 32.166257], [-84.431214, 32.134058], [-84.527117, 32.134556], [-84.649319, 32.232953]]], \"type\": \"Polygon\"}, \"id\": \"13197\", \"properties\": {\"CENSUSAREA\": 366.003, \"COUNTY\": \"197\", \"GEO_ID\": \"0500000US13197\", \"LSAD\": \"County\", \"NAME\": \"Marion\", \"STATE\": \"13\"}, \"type\": \"Feature\"}, {\"geometry\": {\"coordinates\": [[[-84.922423, 31.07259], [-84.91743, 31.25599], [-84.641673, 31.258967], [-84.537101, 31.255932], [-84.542653, 31.079029], [-84.730855, 31.06919], [-84.922423, 31.07259]]], \"type\": \"Polygon\"}, \"id\": \"13201\", \"properties\": {\"CENSUSAREA\": 282.421, \"COUNTY\": \"201\", \"GEO_ID\": \"0500000US13201\", \"LSAD\": \"County\", \"NAME\": \"Miller\", \"STATE\": \"13\"}, \"type\": \"Feature\"}, {\"geometry\": {\"coordinates\": [[[-83.682196, 33.52622], [-83.674644, 33.487225], [-83.824922, 33.437263], [-83.863058, 33.368278], [-83.923913, 33.444194], [-84.044493, 33.525776], [-84.024854, 33.547507], [-84.024279, 33.548226], [-83.972655, 33.605482], [-83.914823, 33.744203], [-83.77735, 33.658301], [-83.680896, 33.596919], [-83.687386, 33.588559], [-83.687085, 33.582375], [-83.681443, 33.577913], [-83.677669, 33.571176], [-83.682196, 33.52622]]], \"type\": \"Polygon\"}, \"id\": \"13217\", \"properties\": {\"CENSUSAREA\": 272.161, \"COUNTY\": \"217\", \"GEO_ID\": \"0500000US13217\", \"LSAD\": \"County\", \"NAME\": \"Newton\", \"STATE\": \"13\"}, \"type\": \"Feature\"}, {\"geometry\": {\"coordinates\": [[[-83.846676, 32.468514], [-84.00849, 32.521769], [-84.001069, 32.520586], [-84.003363, 32.529927], [-83.766787, 32.692622], [-83.70109, 32.691598], [-83.719859, 32.53176], [-83.846676, 32.468514]]], \"type\": \"Polygon\"}, \"id\": \"13225\", \"properties\": {\"CENSUSAREA\": 150.267, \"COUNTY\": \"225\", \"GEO_ID\": \"0500000US13225\", \"LSAD\": \"County\", \"NAME\": \"Peach\", \"STATE\": \"13\"}, \"type\": \"Feature\"}, {\"geometry\": {\"coordinates\": [[[-84.922742, 34.082497], [-84.978683, 33.951393], [-85.05031, 33.904488], [-85.386693, 33.901697], [-85.398837, 33.964129], [-85.421731, 34.080821], [-85.257624, 34.100668], [-85.046871, 34.096412], [-84.922742, 34.082497]]], \"type\": \"Polygon\"}, \"id\": \"13233\", \"properties\": {\"CENSUSAREA\": 310.331, \"COUNTY\": \"233\", \"GEO_ID\": \"0500000US13233\", \"LSAD\": \"County\", \"NAME\": \"Polk\", \"STATE\": \"13\"}, \"type\": \"Feature\"}, {\"geometry\": {\"coordinates\": [[[-84.95864, 31.777854], [-84.910338, 31.776841], [-84.907006, 31.924465], [-84.65582, 31.920308], [-84.599776, 31.920171], [-84.603086, 31.772001], [-84.535527, 31.681828], [-84.546854, 31.621199], [-84.817843, 31.619771], [-84.942353, 31.618669], [-84.95864, 31.777854]]], \"type\": \"Polygon\"}, \"id\": \"13243\", \"properties\": {\"CENSUSAREA\": 428.236, \"COUNTY\": \"243\", \"GEO_ID\": \"0500000US13243\", \"LSAD\": \"County\", \"NAME\": \"Randolph\", \"STATE\": \"13\"}, \"type\": \"Feature\"}, {\"geometry\": {\"coordinates\": [[[-85.022121, 31.07548], [-85.001928, 31.074983], [-84.999869, 31.074736], [-84.922423, 31.07259], [-84.730855, 31.06919], [-84.755917, 30.88527], [-84.863465, 30.711487], [-84.864693, 30.711542], [-84.896122, 30.750591], [-84.941925, 30.887988], [-84.959626, 30.910587], [-84.983527, 30.935486], [-84.998628, 30.971386], [-85.002368, 31.000682], [-84.999428, 31.013843], [-85.022121, 31.07548]]], \"type\": \"Polygon\"}, \"id\": \"13253\", \"properties\": {\"CENSUSAREA\": 235.226, \"COUNTY\": \"253\", \"GEO_ID\": \"0500000US13253\", \"LSAD\": \"County\", \"NAME\": \"Seminole\", \"STATE\": \"13\"}, \"type\": \"Feature\"}, {\"geometry\": {\"coordinates\": [[[-82.679975, 33.599792], [-82.751275, 33.510143], [-82.815315, 33.521137], [-82.851954, 33.443543], [-83.012853, 33.469178], [-83.014038, 33.580383], [-82.951142, 33.658032], [-82.995602, 33.693583], [-82.98888, 33.706315], [-82.949046, 33.733333], [-82.890599, 33.632877], [-82.812958, 33.655836], [-82.679975, 33.599792]]], \"type\": \"Polygon\"}, \"id\": \"13265\", \"properties\": {\"CENSUSAREA\": 194.608, \"COUNTY\": \"265\", \"GEO_ID\": \"0500000US13265\", \"LSAD\": \"County\", \"NAME\": \"Taliaferro\", \"STATE\": \"13\"}, \"type\": \"Feature\"}, {\"geometry\": {\"coordinates\": [[[-83.338728, 31.475991], [-83.434492, 31.350361], [-83.460644, 31.326263], [-83.512607, 31.327405], [-83.65409, 31.330661], [-83.649384, 31.567977], [-83.648972, 31.596466], [-83.500702, 31.59399], [-83.338728, 31.475991]]], \"type\": \"Polygon\"}, \"id\": \"13277\", \"properties\": {\"CENSUSAREA\": 258.915, \"COUNTY\": \"277\", \"GEO_ID\": \"0500000US13277\", \"LSAD\": \"County\", \"NAME\": \"Tift\", \"STATE\": \"13\"}, \"type\": \"Feature\"}, {\"geometry\": {\"coordinates\": [[[-85.236509, 33.129562], [-84.939015, 33.224693], [-84.862359, 33.191173], [-84.861768, 32.872495], [-85.184131, 32.870525], [-85.221868, 33.055538], [-85.223261, 33.06258], [-85.232378, 33.108077], [-85.236509, 33.129562]]], \"type\": \"Polygon\"}, \"id\": \"13285\", \"properties\": {\"CENSUSAREA\": 413.988, \"COUNTY\": \"285\", \"GEO_ID\": \"0500000US13285\", \"LSAD\": \"County\", \"NAME\": \"Troup\", \"STATE\": \"13\"}, \"type\": \"Feature\"}, {\"geometry\": {\"coordinates\": [[[-84.202628, 32.690018], [-84.286246, 32.747626], [-84.391017, 32.786956], [-84.506888, 32.881788], [-84.52702, 32.970548], [-84.489708, 32.993729], [-84.27014, 32.991011], [-84.122361, 32.989576], [-84.12334, 32.932184], [-84.124275, 32.849562], [-84.202628, 32.690018]]], \"type\": \"Polygon\"}, \"id\": \"13293\", \"properties\": {\"CENSUSAREA\": 323.437, \"COUNTY\": \"293\", \"GEO_ID\": \"0500000US13293\", \"LSAD\": \"County\", \"NAME\": \"Upson\", \"STATE\": \"13\"}, \"type\": \"Feature\"}, {\"geometry\": {\"coordinates\": [[[-82.661917, 33.126331], [-82.550197, 33.019247], [-82.510851, 32.917754], [-82.521052, 32.822356], [-82.768365, 32.769108], [-82.802456, 32.809756], [-82.946966, 32.759358], [-83.073648, 32.946562], [-83.052197, 33.080682], [-82.888866, 33.138603], [-82.855046, 33.196427], [-82.748311, 33.238348], [-82.661917, 33.126331]]], \"type\": \"Polygon\"}, \"id\": \"13303\", \"properties\": {\"CENSUSAREA\": 678.452, \"COUNTY\": \"303\", \"GEO_ID\": \"0500000US13303\", \"LSAD\": \"County\", \"NAME\": \"Washington\", \"STATE\": \"13\"}, \"type\": \"Feature\"}, {\"geometry\": {\"coordinates\": [[[-85.293902, 33.428079], [-85.015358, 33.425506], [-84.939015, 33.224693], [-85.236509, 33.129562], [-85.293902, 33.428079]]], \"type\": \"Polygon\"}, \"id\": \"13149\", \"properties\": {\"CENSUSAREA\": 296.03, \"COUNTY\": \"149\", \"GEO_ID\": \"0500000US13149\", \"LSAD\": \"County\", \"NAME\": \"Heard\", \"STATE\": \"13\"}, \"type\": \"Feature\"}, {\"geometry\": {\"coordinates\": [[[-84.724435, 33.881859], [-84.737836, 34.079399], [-84.729235, 34.079199], [-84.722636, 34.079199], [-84.721936, 34.079099], [-84.687222, 34.0785], [-84.684745, 34.0785], [-84.682835, 34.078399], [-84.676415, 34.078298], [-84.674935, 34.078199], [-84.673935, 34.078299], [-84.672635, 34.078199], [-84.659234, 34.077999], [-84.521992, 34.075399], [-84.418927, 34.073298], [-84.383027, 33.9638], [-84.442708, 33.901543], [-84.480134, 33.817319], [-84.578132, 33.743507], [-84.619892, 33.805024], [-84.724139, 33.80617], [-84.723969, 33.815306], [-84.725181, 33.816995], [-84.725035, 33.819905], [-84.724435, 33.881859]]], \"type\": \"Polygon\"}, \"id\": \"13067\", \"properties\": {\"CENSUSAREA\": 339.549, \"COUNTY\": \"067\", \"GEO_ID\": \"0500000US13067\", \"LSAD\": \"County\", \"NAME\": \"Cobb\", \"STATE\": \"13\"}, \"type\": \"Feature\"}, {\"geometry\": {\"coordinates\": [[[-82.627342, 31.672672], [-82.597509, 31.469293], [-82.628181, 31.469351], [-82.628975, 31.36393], [-82.817544, 31.364486], [-82.844093, 31.403328], [-83.140483, 31.420395], [-83.138998, 31.427784], [-83.135927, 31.43051], [-83.139448, 31.436466], [-83.138618, 31.441528], [-83.144891, 31.454633], [-83.150474, 31.456787], [-83.150846, 31.462262], [-83.145874, 31.468926], [-83.145587, 31.472276], [-82.99836, 31.673164], [-82.995698, 31.780983], [-82.86309, 31.783005], [-82.836366, 31.816154], [-82.836633, 31.671398], [-82.627342, 31.672672]]], \"type\": \"Polygon\"}, \"id\": \"13069\", \"properties\": {\"CENSUSAREA\": 575.097, \"COUNTY\": \"069\", \"GEO_ID\": \"0500000US13069\", \"LSAD\": \"County\", \"NAME\": \"Coffee\", \"STATE\": \"13\"}, \"type\": \"Feature\"}, {\"geometry\": {\"coordinates\": [[[-82.11663, 33.589723], [-82.098816, 33.586358], [-82.069039, 33.575382], [-82.046335, 33.56383], [-82.028238, 33.544934], [-82.294179, 33.354635], [-82.436814, 33.549658], [-82.425328, 33.650629], [-82.306414, 33.700644], [-82.218649, 33.686299], [-82.196583, 33.630582], [-82.179854, 33.615945], [-82.135046, 33.591044], [-82.12908, 33.589925], [-82.124841, 33.591274], [-82.11663, 33.589723]]], \"type\": \"Polygon\"}, \"id\": \"13073\", \"properties\": {\"CENSUSAREA\": 290.09, \"COUNTY\": \"073\", \"GEO_ID\": \"0500000US13073\", \"LSAD\": \"County\", \"NAME\": \"Columbia\", \"STATE\": \"13\"}, \"type\": \"Feature\"}, {\"geometry\": {\"coordinates\": [[[-84.939015, 33.224693], [-85.015358, 33.425506], [-84.850713, 33.511457], [-84.60954, 33.502511], [-84.62722, 33.440078], [-84.497527, 33.257422], [-84.508926, 33.245222], [-84.50029, 33.233444], [-84.502352, 33.221055], [-84.85236, 33.22359], [-84.862359, 33.191173], [-84.939015, 33.224693]]], \"type\": \"Polygon\"}, \"id\": \"13077\", \"properties\": {\"CENSUSAREA\": 440.892, \"COUNTY\": \"077\", \"GEO_ID\": \"0500000US13077\", \"LSAD\": \"County\", \"NAME\": \"Coweta\", \"STATE\": \"13\"}, \"type\": \"Feature\"}, {\"geometry\": {\"coordinates\": [[[-83.961278, 32.030595], [-83.609663, 32.027938], [-83.612256, 31.854089], [-83.612642, 31.804128], [-83.802223, 31.803495], [-83.939437, 31.847929], [-83.938192, 31.849489], [-83.9378, 31.854805], [-83.936736, 31.858043], [-83.932321, 31.859235], [-83.926524, 31.863292], [-83.928694, 31.871849], [-83.931152, 31.876984], [-83.934061, 31.88139], [-83.932091, 31.884632], [-83.928689, 31.886864], [-83.932301, 31.893801], [-83.932021, 31.898759], [-83.927383, 31.904142], [-83.925103, 31.905668], [-83.922494, 31.909653], [-83.961278, 32.030595]]], \"type\": \"Polygon\"}, \"id\": \"13081\", \"properties\": {\"CENSUSAREA\": 272.583, \"COUNTY\": \"081\", \"GEO_ID\": \"0500000US13081\", \"LSAD\": \"County\", \"NAME\": \"Crisp\", \"STATE\": \"13\"}, \"type\": \"Feature\"}, {\"geometry\": {\"coordinates\": [[[-84.508078, 31.0784], [-84.376612, 31.078883], [-84.380719, 30.689673], [-84.535042, 30.696523], [-84.53937, 30.696775], [-84.606249, 30.699872], [-84.606386, 30.699865], [-84.863465, 30.711487], [-84.755917, 30.88527], [-84.730855, 31.06919], [-84.542653, 31.079029], [-84.508078, 31.0784]]], \"type\": \"Polygon\"}, \"id\": \"13087\", \"properties\": {\"CENSUSAREA\": 597.14, \"COUNTY\": \"087\", \"GEO_ID\": \"0500000US13087\", \"LSAD\": \"County\", \"NAME\": \"Decatur\", \"STATE\": \"13\"}, \"type\": \"Feature\"}, {\"geometry\": {\"coordinates\": [[[-84.027853, 32.171083], [-83.965121, 32.248005], [-83.848379, 32.29097], [-83.615579, 32.288556], [-83.608547, 32.118405], [-83.608407, 32.116466], [-83.609663, 32.027938], [-83.961278, 32.030595], [-84.027853, 32.171083]]], \"type\": \"Polygon\"}, \"id\": \"13093\", \"properties\": {\"CENSUSAREA\": 391.94, \"COUNTY\": \"093\", \"GEO_ID\": \"0500000US13093\", \"LSAD\": \"County\", \"NAME\": \"Dooly\", \"STATE\": \"13\"}, \"type\": \"Feature\"}, {\"geometry\": {\"coordinates\": [[[-84.450398, 31.621868], [-84.297801, 31.621951], [-84.043213, 31.623573], [-84.018404, 31.650274], [-83.982569, 31.46348], [-83.997679, 31.462773], [-83.997796, 31.443753], [-84.141124, 31.440179], [-84.429876, 31.436661], [-84.450398, 31.621868]]], \"type\": \"Polygon\"}, \"id\": \"13095\", \"properties\": {\"CENSUSAREA\": 328.689, \"COUNTY\": \"095\", \"GEO_ID\": \"0500000US13095\", \"LSAD\": \"County\", \"NAME\": \"Dougherty\", \"STATE\": \"13\"}, \"type\": \"Feature\"}, {\"geometry\": {\"coordinates\": [[[-83.136616, 30.624346], [-83.136236, 30.775229], [-83.088082, 30.848658], [-83.019419, 30.849453], [-83.013962, 30.844709], [-83.006577, 30.85947], [-82.993866, 30.860786], [-82.982155, 30.872249], [-82.971336, 30.869392], [-82.846353, 30.834988], [-82.766159, 30.732404], [-82.604005, 30.713676], [-82.584002, 30.591796], [-82.689271, 30.597719], [-82.689539, 30.597734], [-82.698618, 30.598232], [-82.698902, 30.598271], [-82.877259, 30.609024], [-82.878779, 30.609082], [-83.136616, 30.624346]]], \"type\": \"Polygon\"}, \"id\": \"13101\", \"properties\": {\"CENSUSAREA\": 414.894, \"COUNTY\": \"101\", \"GEO_ID\": \"0500000US13101\", \"LSAD\": \"County\", \"NAME\": \"Echols\", \"STATE\": \"13\"}, \"type\": \"Feature\"}, {\"geometry\": {\"coordinates\": [[[-81.348155, 32.569294], [-81.328753, 32.561228], [-81.318255, 32.559722], [-81.286776, 32.544831], [-81.275415, 32.539457], [-81.199029, 32.467286], [-81.168032, 32.368391], [-81.140932, 32.349393], [-81.134332, 32.341693], [-81.122333, 32.305395], [-81.120333, 32.285796], [-81.128034, 32.276297], [-81.125457, 32.22713], [-81.195634, 32.237499], [-81.391698, 32.095886], [-81.43583, 32.241289], [-81.542716, 32.417446], [-81.548006, 32.489286], [-81.538558, 32.509059], [-81.389258, 32.595385], [-81.348155, 32.569294]]], \"type\": \"Polygon\"}, \"id\": \"13103\", \"properties\": {\"CENSUSAREA\": 477.7, \"COUNTY\": \"103\", \"GEO_ID\": \"0500000US13103\", \"LSAD\": \"County\", \"NAME\": \"Effingham\", \"STATE\": \"13\"}, \"type\": \"Feature\"}, {\"geometry\": {\"coordinates\": [[[-81.969069, 32.268783], [-81.81628, 32.23747], [-81.780858, 32.15289], [-81.718658, 32.089351], [-81.761735, 32.0479], [-81.980041, 32.081502], [-82.025339, 32.278883], [-81.999843, 32.276189], [-81.969069, 32.268783]]], \"type\": \"Polygon\"}, \"id\": \"13109\", \"properties\": {\"CENSUSAREA\": 182.853, \"COUNTY\": \"109\", \"GEO_ID\": \"0500000US13109\", \"LSAD\": \"County\", \"NAME\": \"Evans\", \"STATE\": \"13\"}, \"type\": \"Feature\"}, {\"geometry\": {\"coordinates\": [[[-85.069159, 34.587184], [-85.086761, 34.401264], [-85.005775, 34.392446], [-85.046871, 34.096412], [-85.257624, 34.100668], [-85.421731, 34.080821], [-85.455057, 34.250689], [-85.455371, 34.252854], [-85.458071, 34.265736], [-85.458693, 34.269437], [-85.462304, 34.286365], [-85.387351, 34.286097], [-85.334881, 34.369748], [-85.180548, 34.435996], [-85.107748, 34.587483], [-85.069159, 34.587184]]], \"type\": \"Polygon\"}, \"id\": \"13115\", \"properties\": {\"CENSUSAREA\": 509.911, \"COUNTY\": \"115\", \"GEO_ID\": \"0500000US13115\", \"LSAD\": \"County\", \"NAME\": \"Floyd\", \"STATE\": \"13\"}, \"type\": \"Feature\"}, {\"geometry\": {\"coordinates\": [[[-83.355269, 34.22373], [-83.393915, 34.324801], [-83.398396, 34.460883], [-83.177838, 34.477017], [-83.106874, 34.534053], [-83.087189, 34.515939], [-83.072746, 34.504349], [-83.052161, 34.493062], [-83.094238, 34.415901], [-83.11336, 34.27353], [-83.172745, 34.238522], [-83.297317, 34.264587], [-83.355269, 34.22373]]], \"type\": \"Polygon\"}, \"id\": \"13119\", \"properties\": {\"CENSUSAREA\": 261.497, \"COUNTY\": \"119\", \"GEO_ID\": \"0500000US13119\", \"LSAD\": \"County\", \"NAME\": \"Franklin\", \"STATE\": \"13\"}, \"type\": \"Feature\"}, {\"geometry\": {\"coordinates\": [[[-82.971247, 31.183988], [-83.046885, 31.18368], [-83.033531, 31.27467], [-83.140483, 31.420395], [-82.844093, 31.403328], [-82.817544, 31.364486], [-82.628975, 31.36393], [-82.629622, 31.274726], [-82.699206, 31.278104], [-82.671669, 31.183739], [-82.971247, 31.183988]]], \"type\": \"Polygon\"}, \"id\": \"13003\", \"properties\": {\"CENSUSAREA\": 339.382, \"COUNTY\": \"003\", \"GEO_ID\": \"0500000US13003\", \"LSAD\": \"County\", \"NAME\": \"Atkinson\", \"STATE\": \"13\"}, \"type\": \"Feature\"}, {\"geometry\": {\"coordinates\": [[[-82.52142, 31.710796], [-82.226585, 31.530699], [-82.344843, 31.43013], [-82.417246, 31.417119], [-82.494718, 31.46869], [-82.597509, 31.469293], [-82.627342, 31.672672], [-82.521393, 31.672512], [-82.52142, 31.710796]]], \"type\": \"Polygon\"}, \"id\": \"13005\", \"properties\": {\"CENSUSAREA\": 258.576, \"COUNTY\": \"005\", \"GEO_ID\": \"0500000US13005\", \"LSAD\": \"County\", \"NAME\": \"Bacon\", \"STATE\": \"13\"}, \"type\": \"Feature\"}, {\"geometry\": {\"coordinates\": [[[-83.159585, 33.002803], [-83.357685, 32.926141], [-83.380383, 32.998077], [-83.414997, 33.112833], [-83.42909, 33.185352], [-83.274108, 33.187238], [-83.097507, 33.15141], [-83.100834, 33.049849], [-83.052197, 33.080682], [-83.073648, 32.946562], [-83.159585, 33.002803]]], \"type\": \"Polygon\"}, \"id\": \"13009\", \"properties\": {\"CENSUSAREA\": 257.844, \"COUNTY\": \"009\", \"GEO_ID\": \"0500000US13009\", \"LSAD\": \"County\", \"NAME\": \"Baldwin\", \"STATE\": \"13\"}, \"type\": \"Feature\"}, {\"geometry\": {\"coordinates\": [[[-85.005775, 34.392446], [-84.862863, 34.396601], [-84.653232, 34.41259], [-84.659234, 34.077999], [-84.672635, 34.078199], [-84.673935, 34.078299], [-84.674935, 34.078199], [-84.676415, 34.078298], [-84.682835, 34.078399], [-84.684745, 34.0785], [-84.687222, 34.0785], [-84.721936, 34.079099], [-84.722636, 34.079199], [-84.729235, 34.079199], [-84.737836, 34.079399], [-84.922742, 34.082497], [-85.046871, 34.096412], [-85.005775, 34.392446]]], \"type\": \"Polygon\"}, \"id\": \"13015\", \"properties\": {\"CENSUSAREA\": 459.544, \"COUNTY\": \"015\", \"GEO_ID\": \"0500000US13015\", \"LSAD\": \"County\", \"NAME\": \"Bartow\", \"STATE\": \"13\"}, \"type\": \"Feature\"}, {\"geometry\": {\"coordinates\": [[[-83.226536, 32.584201], [-83.138991, 32.423069], [-83.173252, 32.452533], [-83.30475, 32.341958], [-83.346528, 32.272489], [-83.498039, 32.401715], [-83.482648, 32.424536], [-83.497923, 32.452198], [-83.226536, 32.584201]]], \"type\": \"Polygon\"}, \"id\": \"13023\", \"properties\": {\"CENSUSAREA\": 215.87, \"COUNTY\": \"023\", \"GEO_ID\": \"0500000US13023\", \"LSAD\": \"County\", \"NAME\": \"Bleckley\", \"STATE\": \"13\"}, \"type\": \"Feature\"}, {\"geometry\": {\"coordinates\": [[[-81.936006, 31.047993], [-82.06087, 31.075809], [-82.131698, 31.010714], [-82.208262, 31.084768], [-82.208732, 31.170938], [-82.284561, 31.224449], [-82.194824, 31.20759], [-82.100067, 31.27671], [-82.006775, 31.277063], [-82.041129, 31.373721], [-81.923238, 31.345875], [-81.801052, 31.363737], [-81.731694, 31.330048], [-81.766322, 31.169595], [-81.936006, 31.047993]]], \"type\": \"Polygon\"}, \"id\": \"13025\", \"properties\": {\"CENSUSAREA\": 442.362, \"COUNTY\": \"025\", \"GEO_ID\": \"0500000US13025\", \"LSAD\": \"County\", \"NAME\": \"Brantley\", \"STATE\": \"13\"}, \"type\": \"Feature\"}, {\"geometry\": {\"coordinates\": [[[-81.780858, 32.15289], [-81.81628, 32.23747], [-81.969069, 32.268783], [-81.918671, 32.41541], [-82.030233, 32.53877], [-82.026842, 32.555163], [-82.001236, 32.60691], [-81.841005, 32.649093], [-81.689643, 32.54629], [-81.548006, 32.489286], [-81.542716, 32.417446], [-81.43583, 32.241289], [-81.780858, 32.15289]]], \"type\": \"Polygon\"}, \"id\": \"13031\", \"properties\": {\"CENSUSAREA\": 672.809, \"COUNTY\": \"031\", \"GEO_ID\": \"0500000US13031\", \"LSAD\": \"County\", \"NAME\": \"Bulloch\", \"STATE\": \"13\"}, \"type\": \"Feature\"}, {\"geometry\": {\"coordinates\": [[[-84.546854, 31.621199], [-84.450416, 31.621255], [-84.450398, 31.621868], [-84.429876, 31.436661], [-84.637579, 31.433926], [-84.789032, 31.436356], [-84.819807, 31.501192], [-84.817843, 31.619771], [-84.546854, 31.621199]]], \"type\": \"Polygon\"}, \"id\": \"13037\", \"properties\": {\"CENSUSAREA\": 280.367, \"COUNTY\": \"037\", \"GEO_ID\": \"0500000US13037\", \"LSAD\": \"County\", \"NAME\": \"Calhoun\", \"STATE\": \"13\"}, \"type\": \"Feature\"}, {\"geometry\": {\"coordinates\": [[[-82.131698, 31.010714], [-82.06087, 31.075809], [-81.936006, 31.047993], [-81.892028, 30.960474], [-81.906014, 30.822176], [-81.999836, 30.788348], [-82.023213, 30.781987], [-82.050432, 30.676266], [-82.049401, 30.655296], [-82.037609, 30.633271], [-82.01329, 30.595665], [-82.005477, 30.563495], [-82.01699, 30.519358], [-82.016103, 30.497355], [-82.050031, 30.36249], [-82.050069, 30.362338], [-82.124835, 30.366564], [-82.165192, 30.358035], [-82.171508, 30.359869], [-82.189583, 30.376213], [-82.204151, 30.40133], [-82.210291, 30.42459], [-82.20604, 30.455507], [-82.21233, 30.499558], [-82.214385, 30.566958], [-82.214847, 30.567009], [-82.149872, 30.784336], [-82.420442, 30.795229], [-82.415603, 31.01359], [-82.131698, 31.010714]]], \"type\": \"Polygon\"}, \"id\": \"13049\", \"properties\": {\"CENSUSAREA\": 773.576, \"COUNTY\": \"049\", \"GEO_ID\": \"0500000US13049\", \"LSAD\": \"County\", \"NAME\": \"Charlton\", \"STATE\": \"13\"}, \"type\": \"Feature\"}, {\"geometry\": {\"coordinates\": [[[-84.923638, 32.231539], [-84.92165, 32.233306], [-84.909052, 32.26354], [-84.916611, 32.281177], [-84.93868, 32.300708], [-85.001874, 32.322015], [-85.007103, 32.328362], [-85.008096, 32.336677], [-84.987386, 32.381201], [-84.987278, 32.381623], [-84.848664, 32.41464], [-84.844216, 32.413248], [-84.83436, 32.413216], [-84.823992, 32.413967], [-84.814632, 32.414448], [-84.811384, 32.418608], [-84.809432, 32.420864], [-84.805175, 32.418912], [-84.798647, 32.415968], [-84.791463, 32.414783], [-84.788471, 32.418031], [-84.782983, 32.421711], [-84.781559, 32.422863], [-84.778359, 32.423054], [-84.774567, 32.421839], [-84.769431, 32.422319], [-84.69451, 32.518732], [-84.686265, 32.519624], [-84.678157, 32.518915], [-84.661721, 32.529148], [-84.658017, 32.528759], [-84.648977, 32.534956], [-84.637323, 32.534855], [-84.657325, 32.49494], [-84.65892, 32.232852], [-84.923638, 32.231539]]], \"type\": \"Polygon\"}, \"id\": \"13053\", \"properties\": {\"CENSUSAREA\": 248.736, \"COUNTY\": \"053\", \"GEO_ID\": \"0500000US13053\", \"LSAD\": \"County\", \"NAME\": \"Chattahoochee\", \"STATE\": \"13\"}, \"type\": \"Feature\"}, {\"geometry\": {\"coordinates\": [[[-84.258075, 34.335156], [-84.258743, 34.185909], [-84.328263, 34.186144], [-84.418927, 34.073298], [-84.521992, 34.075399], [-84.659234, 34.077999], [-84.653232, 34.41259], [-84.58263, 34.381492], [-84.257586, 34.380992], [-84.257652, 34.375111], [-84.257812, 34.372631], [-84.258075, 34.335156]]], \"type\": \"Polygon\"}, \"id\": \"13057\", \"properties\": {\"CENSUSAREA\": 421.674, \"COUNTY\": \"057\", \"GEO_ID\": \"0500000US13057\", \"LSAD\": \"County\", \"NAME\": \"Cherokee\", \"STATE\": \"13\"}, \"type\": \"Feature\"}, {\"geometry\": {\"coordinates\": [[[-84.388118, 33.352465], [-84.381759, 33.463414], [-84.458665, 33.550933], [-84.458579, 33.556242], [-84.458924, 33.559759], [-84.458927, 33.565911], [-84.45863, 33.572107], [-84.458399, 33.572743], [-84.458627, 33.586456], [-84.458514, 33.608625], [-84.457726, 33.64887], [-84.365325, 33.647809], [-84.360224, 33.647909], [-84.350224, 33.647908], [-84.282619, 33.647009], [-84.281273, 33.647411], [-84.283518, 33.502514], [-84.353584, 33.436165], [-84.3544, 33.352514], [-84.388118, 33.352465]]], \"type\": \"Polygon\"}, \"id\": \"13063\", \"properties\": {\"CENSUSAREA\": 141.57, \"COUNTY\": \"063\", \"GEO_ID\": \"0500000US13063\", \"LSAD\": \"County\", \"NAME\": \"Clayton\", \"STATE\": \"13\"}, \"type\": \"Feature\"}, {\"geometry\": {\"coordinates\": [[[-82.645451, 33.984195], [-82.593527, 33.827322], [-82.479518, 33.639535], [-82.649705, 33.608768], [-82.652439, 33.611202], [-82.655937, 33.60661], [-82.652208, 33.596718], [-82.656606, 33.596812], [-82.65912, 33.603048], [-82.670284, 33.604138], [-82.679975, 33.599792], [-82.812958, 33.655836], [-82.890599, 33.632877], [-82.949046, 33.733333], [-82.987286, 33.78071], [-82.874587, 33.921767], [-82.779506, 33.971124], [-82.645451, 33.984195]]], \"type\": \"Polygon\"}, \"id\": \"13317\", \"properties\": {\"CENSUSAREA\": 469.49, \"COUNTY\": \"317\", \"GEO_ID\": \"0500000US13317\", \"LSAD\": \"County\", \"NAME\": \"Wilkes\", \"STATE\": \"13\"}, \"type\": \"Feature\"}, {\"geometry\": {\"coordinates\": [[[-83.939437, 31.847929], [-83.802223, 31.803495], [-83.78688, 31.62281], [-83.649384, 31.567977], [-83.65409, 31.330661], [-83.99943, 31.334966], [-83.997796, 31.443753], [-83.997679, 31.462773], [-83.982569, 31.46348], [-84.018404, 31.650274], [-84.032344, 31.716772], [-83.939437, 31.847929]]], \"type\": \"Polygon\"}, \"id\": \"13321\", \"properties\": {\"CENSUSAREA\": 570.702, \"COUNTY\": \"321\", \"GEO_ID\": \"0500000US13321\", \"LSAD\": \"County\", \"NAME\": \"Worth\", \"STATE\": \"13\"}, \"type\": \"Feature\"}, {\"geometry\": {\"coordinates\": [[[-83.352485, 34.715993], [-83.351392, 34.714456], [-83.350976, 34.713243], [-83.351293, 34.701703], [-83.338194, 34.687924], [-83.337867, 34.687681], [-83.45977, 34.481142], [-83.537538, 34.491725], [-83.615251, 34.431748], [-83.666413, 34.503598], [-83.61554, 34.552864], [-83.662819, 34.659801], [-83.623296, 34.732194], [-83.681596, 34.800593], [-83.666855, 34.806528], [-83.657921, 34.813682], [-83.652194, 34.822993], [-83.586897, 34.819991], [-83.548988, 34.749451], [-83.352422, 34.716111], [-83.352485, 34.715993]]], \"type\": \"Polygon\"}, \"id\": \"13137\", \"properties\": {\"CENSUSAREA\": 276.74, \"COUNTY\": \"137\", \"GEO_ID\": \"0500000US13137\", \"LSAD\": \"County\", \"NAME\": \"Habersham\", \"STATE\": \"13\"}, \"type\": \"Feature\"}, {\"geometry\": {\"coordinates\": [[[-83.052197, 33.080682], [-83.100834, 33.049849], [-83.097507, 33.15141], [-83.274108, 33.187238], [-83.253461, 33.25929], [-83.145774, 33.312084], [-83.164207, 33.35503], [-83.012853, 33.469178], [-82.851954, 33.443543], [-82.755846, 33.25344], [-82.747238, 33.247663], [-82.748311, 33.238348], [-82.855046, 33.196427], [-82.888866, 33.138603], [-83.052197, 33.080682]]], \"type\": \"Polygon\"}, \"id\": \"13141\", \"properties\": {\"CENSUSAREA\": 471.841, \"COUNTY\": \"141\", \"GEO_ID\": \"0500000US13141\", \"LSAD\": \"County\", \"NAME\": \"Hancock\", \"STATE\": \"13\"}, \"type\": \"Feature\"}, {\"geometry\": {\"coordinates\": [[[-82.992215, 34.479198], [-82.979568, 34.482702], [-82.939067, 34.486202], [-82.902665, 34.485902], [-82.882864, 34.479003], [-82.873831, 34.471508], [-82.874864, 34.468891], [-82.848651, 34.423844], [-82.766078, 34.293509], [-82.980905, 34.211505], [-83.078004, 34.223606], [-83.115646, 34.262111], [-83.11336, 34.27353], [-83.094238, 34.415901], [-83.052161, 34.493062], [-83.034712, 34.483495], [-83.006848, 34.474376], [-82.995284, 34.474549], [-82.992671, 34.479072], [-82.992215, 34.479198]]], \"type\": \"Polygon\"}, \"id\": \"13147\", \"properties\": {\"CENSUSAREA\": 232.394, \"COUNTY\": \"147\", \"GEO_ID\": \"0500000US13147\", \"LSAD\": \"County\", \"NAME\": \"Hart\", \"STATE\": \"13\"}, \"type\": \"Feature\"}, {\"geometry\": {\"coordinates\": [[[-83.500702, 31.59399], [-83.453634, 31.757861], [-83.325296, 31.756584], [-83.325617, 31.680603], [-83.177218, 31.651691], [-83.176376, 31.678382], [-82.99836, 31.673164], [-83.145587, 31.472276], [-83.146085, 31.472088], [-83.338728, 31.475991], [-83.500702, 31.59399]]], \"type\": \"Polygon\"}, \"id\": \"13155\", \"properties\": {\"CENSUSAREA\": 354.343, \"COUNTY\": \"155\", \"GEO_ID\": \"0500000US13155\", \"LSAD\": \"County\", \"NAME\": \"Irwin\", \"STATE\": \"13\"}, \"type\": \"Feature\"}, {\"geometry\": {\"coordinates\": [[[-83.816048, 33.131816], [-83.817268, 33.14154], [-83.814056, 33.14846], [-83.822929, 33.157856], [-83.824585, 33.17564], [-83.822261, 33.180238], [-83.814103, 33.242134], [-83.863058, 33.368278], [-83.824922, 33.437263], [-83.674644, 33.487225], [-83.682196, 33.52622], [-83.586817, 33.465577], [-83.533736, 33.434472], [-83.537811, 33.393803], [-83.545876, 33.171944], [-83.816048, 33.131816]]], \"type\": \"Polygon\"}, \"id\": \"13159\", \"properties\": {\"CENSUSAREA\": 368.165, \"COUNTY\": \"159\", \"GEO_ID\": \"0500000US13159\", \"LSAD\": \"County\", \"NAME\": \"Jasper\", \"STATE\": \"13\"}, \"type\": \"Feature\"}, {\"geometry\": {\"coordinates\": [[[-81.767553, 32.909411], [-81.867938, 32.68115], [-81.841005, 32.649093], [-82.001236, 32.60691], [-82.08244, 32.663061], [-82.144977, 32.812741], [-82.081331, 32.916782], [-81.857976, 32.953882], [-81.767553, 32.909411]]], \"type\": \"Polygon\"}, \"id\": \"13165\", \"properties\": {\"CENSUSAREA\": 347.279, \"COUNTY\": \"165\", \"GEO_ID\": \"0500000US13165\", \"LSAD\": \"County\", \"NAME\": \"Jenkins\", \"STATE\": \"13\"}, \"type\": \"Feature\"}, {\"geometry\": {\"coordinates\": [[[-84.27014, 32.991011], [-84.248185, 33.189019], [-84.123767, 33.202824], [-84.041498, 33.202629], [-84.044113, 32.947874], [-84.12334, 32.932184], [-84.122361, 32.989576], [-84.27014, 32.991011]]], \"type\": \"Polygon\"}, \"id\": \"13171\", \"properties\": {\"CENSUSAREA\": 183.5, \"COUNTY\": \"171\", \"GEO_ID\": \"0500000US13171\", \"LSAD\": \"County\", \"NAME\": \"Lamar\", \"STATE\": \"13\"}, \"type\": \"Feature\"}, {\"geometry\": {\"coordinates\": [[[-83.019419, 30.849453], [-83.042924, 30.947296], [-83.179465, 30.950128], [-83.197971, 31.025405], [-83.165072, 31.147198], [-83.038246, 31.146705], [-83.046885, 31.18368], [-82.971247, 31.183988], [-82.971336, 30.869392], [-82.982155, 30.872249], [-82.993866, 30.860786], [-83.006577, 30.85947], [-83.013962, 30.844709], [-83.019419, 30.849453]]], \"type\": \"Polygon\"}, \"id\": \"13173\", \"properties\": {\"CENSUSAREA\": 185.261, \"COUNTY\": \"173\", \"GEO_ID\": \"0500000US13173\", \"LSAD\": \"County\", \"NAME\": \"Lanier\", \"STATE\": \"13\"}, \"type\": \"Feature\"}, {\"geometry\": {\"coordinates\": [[[-82.425328, 33.650629], [-82.430915, 33.655076], [-82.435952, 33.652046], [-82.451692, 33.649591], [-82.458237, 33.637471], [-82.46988, 33.638617], [-82.476969, 33.644281], [-82.479518, 33.639535], [-82.593527, 33.827322], [-82.645451, 33.984195], [-82.564483, 33.955744], [-82.429164, 33.865844], [-82.422803, 33.863754], [-82.408354, 33.86632], [-82.403881, 33.865477], [-82.32448, 33.820033], [-82.301457, 33.801864], [-82.247472, 33.752591], [-82.218649, 33.686299], [-82.306414, 33.700644], [-82.425328, 33.650629]]], \"type\": \"Polygon\"}, \"id\": \"13181\", \"properties\": {\"CENSUSAREA\": 210.38, \"COUNTY\": \"181\", \"GEO_ID\": \"0500000US13181\", \"LSAD\": \"County\", \"NAME\": \"Lincoln\", \"STATE\": \"13\"}, \"type\": \"Feature\"}, {\"geometry\": {\"coordinates\": [[[-83.279931, 33.483438], [-83.533736, 33.434472], [-83.586817, 33.465577], [-83.682196, 33.52622], [-83.677669, 33.571176], [-83.681443, 33.577913], [-83.687085, 33.582375], [-83.687386, 33.588559], [-83.680896, 33.596919], [-83.505928, 33.81776], [-83.406189, 33.698307], [-83.269213, 33.533226], [-83.279931, 33.483438]]], \"type\": \"Polygon\"}, \"id\": \"13211\", \"properties\": {\"CENSUSAREA\": 347.349, \"COUNTY\": \"211\", \"GEO_ID\": \"0500000US13211\", \"LSAD\": \"County\", \"NAME\": \"Morgan\", \"STATE\": \"13\"}, \"type\": \"Feature\"}, {\"geometry\": {\"coordinates\": [[[-85.001052, 32.510477], [-85.001324, 32.512973], [-85.0071, 32.523868], [-85.022509, 32.542923], [-85.044606, 32.559499], [-85.069583, 32.58393], [-85.079935, 32.602889], [-85.080288, 32.603577], [-85.082454, 32.607022], [-84.907703, 32.607608], [-84.907883, 32.583433], [-84.694603, 32.583945], [-84.69451, 32.518732], [-84.769431, 32.422319], [-84.774567, 32.421839], [-84.778359, 32.423054], [-84.781559, 32.422863], [-84.782983, 32.421711], [-84.788471, 32.418031], [-84.791463, 32.414783], [-84.798647, 32.415968], [-84.805175, 32.418912], [-84.809432, 32.420864], [-84.811384, 32.418608], [-84.814632, 32.414448], [-84.823992, 32.413967], [-84.83436, 32.413216], [-84.844216, 32.413248], [-84.848664, 32.41464], [-84.987278, 32.381623], [-84.979431, 32.412244], [-84.983831, 32.445643], [-84.998231, 32.469842], [-85.000779, 32.506548], [-85.00103, 32.510157], [-85.001052, 32.510477]]], \"type\": \"Polygon\"}, \"id\": \"13215\", \"properties\": {\"CENSUSAREA\": 216.385, \"COUNTY\": \"215\", \"GEO_ID\": \"0500000US13215\", \"LSAD\": \"County\", \"NAME\": \"Muscogee\", \"STATE\": \"13\"}, \"type\": \"Feature\"}, {\"geometry\": {\"coordinates\": [[[-85.062246, 31.991857], [-84.907006, 31.924465], [-84.910338, 31.776841], [-84.95864, 31.777854], [-85.138668, 31.780425], [-85.141331, 31.783163], [-85.141831, 31.839861], [-85.132931, 31.88826], [-85.10663, 31.915159], [-85.08213, 31.944658], [-85.07233, 31.964758], [-85.062246, 31.991857]]], \"type\": \"Polygon\"}, \"id\": \"13239\", \"properties\": {\"CENSUSAREA\": 151.237, \"COUNTY\": \"239\", \"GEO_ID\": \"0500000US13239\", \"LSAD\": \"County\", \"NAME\": \"Quitman\", \"STATE\": \"13\"}, \"type\": \"Feature\"}, {\"geometry\": {\"coordinates\": [[[-81.663206, 31.538667], [-81.566009, 31.576467], [-81.491798, 31.699575], [-81.43576, 31.642055], [-81.261868, 31.650142], [-81.19438, 31.568101], [-81.204315, 31.568183], [-81.214536, 31.557601], [-81.240699, 31.552313], [-81.254218, 31.55594], [-81.260076, 31.54828], [-81.263905, 31.532579], [-81.263437, 31.530932], [-81.258809, 31.52906], [-81.217948, 31.527284], [-81.213519, 31.528152], [-81.199518, 31.537596], [-81.193016, 31.535833], [-81.181592, 31.527697], [-81.17831, 31.52241], [-81.177254, 31.517074], [-81.189643, 31.503588], [-81.204883, 31.473124], [-81.246911, 31.422784], [-81.258616, 31.404425], [-81.278798, 31.367214], [-81.279338, 31.351127], [-81.282923, 31.326491], [-81.274513, 31.326237], [-81.268027, 31.324218], [-81.25482, 31.315452], [-81.260958, 31.30391], [-81.269906, 31.294489], [-81.435874, 31.313263], [-81.62429, 31.452982], [-81.663206, 31.538667]]], \"type\": \"Polygon\"}, \"id\": \"13191\", \"properties\": {\"CENSUSAREA\": 424.299, \"COUNTY\": \"191\", \"GEO_ID\": \"0500000US13191\", \"LSAD\": \"County\", \"NAME\": \"McIntosh\", \"STATE\": \"13\"}, \"type\": \"Feature\"}, {\"geometry\": {\"coordinates\": [[[-85.05031, 33.904488], [-84.978683, 33.951393], [-84.922742, 34.082497], [-84.737836, 34.079399], [-84.724435, 33.881859], [-84.725035, 33.819905], [-84.725181, 33.816995], [-84.723969, 33.815306], [-84.724139, 33.80617], [-84.724122, 33.791439], [-84.725477, 33.788579], [-84.741348, 33.788568], [-84.769935, 33.784704], [-84.791993, 33.781162], [-84.795109, 33.779809], [-84.799853, 33.779909], [-84.832705, 33.778522], [-84.832708, 33.776019], [-84.879151, 33.774758], [-84.901688, 33.780703], [-84.918629, 33.786328], [-85.037926, 33.811942], [-85.036684, 33.904327], [-85.05031, 33.904488]]], \"type\": \"Polygon\"}, \"id\": \"13223\", \"properties\": {\"CENSUSAREA\": 312.219, \"COUNTY\": \"223\", \"GEO_ID\": \"0500000US13223\", \"LSAD\": \"County\", \"NAME\": \"Paulding\", \"STATE\": \"13\"}, \"type\": \"Feature\"}, {\"geometry\": {\"coordinates\": [[[-83.475617, 31.031964], [-83.295052, 31.027278], [-83.280476, 31.02658], [-83.273731, 31.026658], [-83.197971, 31.025405], [-83.179465, 30.950128], [-83.042924, 30.947296], [-83.019419, 30.849453], [-83.088082, 30.848658], [-83.136236, 30.775229], [-83.136616, 30.624346], [-83.15617, 30.625504], [-83.163309, 30.625895], [-83.174411, 30.626444], [-83.187391, 30.627223], [-83.256218, 30.631279], [-83.309249, 30.634405], [-83.30925, 30.634405], [-83.309455, 30.634417], [-83.311647, 30.634577], [-83.340852, 30.636336], [-83.341011, 30.636346], [-83.357703, 30.637359], [-83.482461, 30.756931], [-83.449293, 30.817957], [-83.358989, 30.83671], [-83.458129, 31.000859], [-83.460412, 31.002812], [-83.461306, 31.005709], [-83.463689, 31.005935], [-83.464269, 31.011093], [-83.466784, 31.013886], [-83.465898, 31.018502], [-83.467778, 31.021635], [-83.471324, 31.02386], [-83.471596, 31.026583], [-83.468295, 31.028481], [-83.470776, 31.028531], [-83.472275, 31.029742], [-83.47326, 31.028452], [-83.473792, 31.031276], [-83.476889, 31.030987], [-83.475617, 31.031964]]], \"type\": \"Polygon\"}, \"id\": \"13185\", \"properties\": {\"CENSUSAREA\": 496.066, \"COUNTY\": \"185\", \"GEO_ID\": \"0500000US13185\", \"LSAD\": \"County\", \"NAME\": \"Lowndes\", \"STATE\": \"13\"}, \"type\": \"Feature\"}, {\"geometry\": {\"coordinates\": [[[-82.425328, 33.650629], [-82.436814, 33.549658], [-82.294179, 33.354635], [-82.350299, 33.314801], [-82.353498, 33.312318], [-82.357647, 33.312717], [-82.371972, 33.310879], [-82.383829, 33.312106], [-82.549373, 33.357748], [-82.649705, 33.608768], [-82.479518, 33.639535], [-82.476969, 33.644281], [-82.46988, 33.638617], [-82.458237, 33.637471], [-82.451692, 33.649591], [-82.435952, 33.652046], [-82.430915, 33.655076], [-82.425328, 33.650629]]], \"type\": \"Polygon\"}, \"id\": \"13189\", \"properties\": {\"CENSUSAREA\": 257.461, \"COUNTY\": \"189\", \"GEO_ID\": \"0500000US13189\", \"LSAD\": \"County\", \"NAME\": \"McDuffie\", \"STATE\": \"13\"}, \"type\": \"Feature\"}, {\"geometry\": {\"coordinates\": [[[-83.258413, 33.999098], [-83.360028, 34.040572], [-83.402428, 34.197499], [-83.400125, 34.200525], [-83.372429, 34.205933], [-83.355269, 34.22373], [-83.297317, 34.264587], [-83.172745, 34.238522], [-83.11336, 34.27353], [-83.115646, 34.262111], [-83.078004, 34.223606], [-83.102074, 34.173794], [-82.976294, 34.043219], [-83.049347, 34.016071], [-83.123878, 34.047558], [-83.258413, 33.999098]]], \"type\": \"Polygon\"}, \"id\": \"13195\", \"properties\": {\"CENSUSAREA\": 282.311, \"COUNTY\": \"195\", \"GEO_ID\": \"0500000US13195\", \"LSAD\": \"County\", \"NAME\": \"Madison\", \"STATE\": \"13\"}, \"type\": \"Feature\"}, {\"geometry\": {\"coordinates\": [[[-84.862359, 33.191173], [-84.85236, 33.22359], [-84.502352, 33.221055], [-84.492889, 33.200006], [-84.496783, 33.183866], [-84.52702, 32.970548], [-84.506888, 32.881788], [-84.570669, 32.845179], [-84.700538, 32.84464], [-84.861768, 32.872495], [-84.862359, 33.191173]]], \"type\": \"Polygon\"}, \"id\": \"13199\", \"properties\": {\"CENSUSAREA\": 501.223, \"COUNTY\": \"199\", \"GEO_ID\": \"0500000US13199\", \"LSAD\": \"County\", \"NAME\": \"Meriwether\", \"STATE\": \"13\"}, \"type\": \"Feature\"}, {\"geometry\": {\"coordinates\": [[[-84.376612, 31.078883], [-84.508078, 31.0784], [-84.48331, 31.155536], [-84.40435, 31.199143], [-84.340552, 31.305341], [-84.20066, 31.355525], [-84.141124, 31.440179], [-83.997796, 31.443753], [-83.99943, 31.334966], [-84.003627, 31.07729], [-84.004502, 31.077192], [-84.116644, 31.077971], [-84.376612, 31.078883]]], \"type\": \"Polygon\"}, \"id\": \"13205\", \"properties\": {\"CENSUSAREA\": 512.085, \"COUNTY\": \"205\", \"GEO_ID\": \"0500000US13205\", \"LSAD\": \"County\", \"NAME\": \"Mitchell\", \"STATE\": \"13\"}, \"type\": \"Feature\"}, {\"geometry\": {\"coordinates\": [[[-82.40913, 32.353738], [-82.483131, 31.968961], [-82.543655, 31.958914], [-82.598068, 32.014429], [-82.612876, 32.161549], [-82.655486, 32.297561], [-82.40913, 32.353738]]], \"type\": \"Polygon\"}, \"id\": \"13209\", \"properties\": {\"CENSUSAREA\": 239.523, \"COUNTY\": \"209\", \"GEO_ID\": \"0500000US13209\", \"LSAD\": \"County\", \"NAME\": \"Montgomery\", \"STATE\": \"13\"}, \"type\": \"Feature\"}, {\"geometry\": {\"coordinates\": [[[-84.775852, 34.9878], [-84.731022, 34.988088], [-84.727434, 34.98802], [-84.621483, 34.988329], [-84.618637, 34.855398], [-84.582306, 34.825141], [-84.657098, 34.728905], [-84.654523, 34.583187], [-84.716498, 34.6229], [-84.863793, 34.608597], [-84.913456, 34.634128], [-84.933722, 34.706799], [-84.864945, 34.707356], [-84.878499, 34.77961], [-84.818715, 34.87695], [-84.810477, 34.987607], [-84.809184, 34.987569], [-84.808127, 34.987592], [-84.775852, 34.9878]]], \"type\": \"Polygon\"}, \"id\": \"13213\", \"properties\": {\"CENSUSAREA\": 344.466, \"COUNTY\": \"213\", \"GEO_ID\": \"0500000US13213\", \"LSAD\": \"County\", \"NAME\": \"Murray\", \"STATE\": \"13\"}, \"type\": \"Feature\"}, {\"geometry\": {\"coordinates\": [[[-82.779506, 33.971124], [-82.874587, 33.921767], [-82.987286, 33.78071], [-82.949046, 33.733333], [-82.98888, 33.706315], [-82.995602, 33.693583], [-83.118729, 33.698818], [-83.28034, 33.761774], [-83.275933, 33.847977], [-83.24086, 33.90443], [-83.258413, 33.999098], [-83.123878, 34.047558], [-83.049347, 34.016071], [-82.976294, 34.043219], [-82.779506, 33.971124]]], \"type\": \"Polygon\"}, \"id\": \"13221\", \"properties\": {\"CENSUSAREA\": 439.012, \"COUNTY\": \"221\", \"GEO_ID\": \"0500000US13221\", \"LSAD\": \"County\", \"NAME\": \"Oglethorpe\", \"STATE\": \"13\"}, \"type\": \"Feature\"}, {\"geometry\": {\"coordinates\": [[[-82.417246, 31.417119], [-82.344843, 31.43013], [-82.226585, 31.530699], [-82.132794, 31.471262], [-82.052754, 31.454567], [-82.041129, 31.373721], [-82.006775, 31.277063], [-82.100067, 31.27671], [-82.194824, 31.20759], [-82.284561, 31.224449], [-82.383705, 31.291143], [-82.417246, 31.417119]]], \"type\": \"Polygon\"}, \"id\": \"13229\", \"properties\": {\"CENSUSAREA\": 316.494, \"COUNTY\": \"229\", \"GEO_ID\": \"0500000US13229\", \"LSAD\": \"County\", \"NAME\": \"Pierce\", \"STATE\": \"13\"}, \"type\": \"Feature\"}, {\"geometry\": {\"coordinates\": [[[-84.248185, 33.189019], [-84.27014, 32.991011], [-84.489708, 32.993729], [-84.52702, 32.970548], [-84.496783, 33.183866], [-84.451336, 33.208889], [-84.248185, 33.189019]]], \"type\": \"Polygon\"}, \"id\": \"13231\", \"properties\": {\"CENSUSAREA\": 216.086, \"COUNTY\": \"231\", \"GEO_ID\": \"0500000US13231\", \"LSAD\": \"County\", \"NAME\": \"Pike\", \"STATE\": \"13\"}, \"type\": \"Feature\"}, {\"geometry\": {\"coordinates\": [[[-83.498039, 32.401715], [-83.346528, 32.272489], [-83.291106, 32.178825], [-83.337313, 32.105885], [-83.608547, 32.118405], [-83.615579, 32.288556], [-83.498039, 32.401715]]], \"type\": \"Polygon\"}, \"id\": \"13235\", \"properties\": {\"CENSUSAREA\": 249.031, \"COUNTY\": \"235\", \"GEO_ID\": \"0500000US13235\", \"LSAD\": \"County\", \"NAME\": \"Pulaski\", \"STATE\": \"13\"}, \"type\": \"Feature\"}, {\"geometry\": {\"coordinates\": [[[-83.108535, 35.000771], [-83.143261, 34.924756], [-83.242962, 34.877749], [-83.267293, 34.832748], [-83.283151, 34.821328], [-83.32406, 34.788691], [-83.339129, 34.741266], [-83.352422, 34.716111], [-83.548988, 34.749451], [-83.586897, 34.819991], [-83.652194, 34.822993], [-83.656792, 34.878492], [-83.549381, 34.992492], [-83.483064, 34.993737], [-83.108714, 35.000768], [-83.108535, 35.000771]]], \"type\": \"Polygon\"}, \"id\": \"13241\", \"properties\": {\"CENSUSAREA\": 369.993, \"COUNTY\": \"241\", \"GEO_ID\": \"0500000US13241\", \"LSAD\": \"County\", \"NAME\": \"Rabun\", \"STATE\": \"13\"}, \"type\": \"Feature\"}, {\"geometry\": {\"coordinates\": [[[-84.023713, 33.752808], [-83.984555, 33.784332], [-83.982033, 33.786054], [-83.954499, 33.76892], [-83.953332, 33.768034], [-83.914823, 33.744203], [-83.972655, 33.605482], [-84.024279, 33.548226], [-84.024854, 33.547507], [-84.044493, 33.525776], [-84.136289, 33.57233], [-84.17213, 33.621919], [-84.181584, 33.629174], [-84.184143, 33.646157], [-84.104334, 33.636025], [-84.056614, 33.726608], [-84.023713, 33.752808]]], \"type\": \"Polygon\"}, \"id\": \"13247\", \"properties\": {\"CENSUSAREA\": 129.793, \"COUNTY\": \"247\", \"GEO_ID\": \"0500000US13247\", \"LSAD\": \"County\", \"NAME\": \"Rockdale\", \"STATE\": \"13\"}, \"type\": \"Feature\"}, {\"geometry\": {\"coordinates\": [[[-84.502352, 33.221055], [-84.50029, 33.233444], [-84.508926, 33.245222], [-84.497527, 33.257422], [-84.432907, 33.2565], [-84.388118, 33.352465], [-84.3544, 33.352514], [-84.150581, 33.335639], [-84.102582, 33.298191], [-84.123767, 33.202824], [-84.248185, 33.189019], [-84.451336, 33.208889], [-84.496783, 33.183866], [-84.492889, 33.200006], [-84.502352, 33.221055]]], \"type\": \"Polygon\"}, \"id\": \"13255\", \"properties\": {\"CENSUSAREA\": 196.469, \"COUNTY\": \"255\", \"GEO_ID\": \"0500000US13255\", \"LSAD\": \"County\", \"NAME\": \"Spalding\", \"STATE\": \"13\"}, \"type\": \"Feature\"}, {\"geometry\": {\"coordinates\": [[[-83.337867, 34.687681], [-83.291683, 34.653396], [-83.240669, 34.624507], [-83.240676, 34.624307], [-83.167523, 34.600424], [-83.170978, 34.598798], [-83.170278, 34.592398], [-83.106874, 34.534053], [-83.177838, 34.477017], [-83.398396, 34.460883], [-83.413586, 34.468014], [-83.45977, 34.481142], [-83.337867, 34.687681]]], \"type\": \"Polygon\"}, \"id\": \"13257\", \"properties\": {\"CENSUSAREA\": 179.131, \"COUNTY\": \"257\", \"GEO_ID\": \"0500000US13257\", \"LSAD\": \"County\", \"NAME\": \"Stephens\", \"STATE\": \"13\"}, \"type\": \"Feature\"}, {\"geometry\": {\"coordinates\": [[[-81.761735, 32.0479], [-81.809931, 32.019657], [-81.824405, 32.014882], [-81.969052, 31.789324], [-81.981941, 31.784405], [-82.006777, 31.800047], [-82.014639, 31.8218], [-82.028346, 31.815513], [-82.048582, 31.827075], [-82.142843, 31.8993], [-82.225042, 31.913074], [-82.182017, 32.165593], [-82.232788, 32.318838], [-82.025339, 32.278883], [-81.980041, 32.081502], [-81.761735, 32.0479]]], \"type\": \"Polygon\"}, \"id\": \"13267\", \"properties\": {\"CENSUSAREA\": 479.403, \"COUNTY\": \"267\", \"GEO_ID\": \"0500000US13267\", \"LSAD\": \"County\", \"NAME\": \"Tattnall\", \"STATE\": \"13\"}, \"type\": \"Feature\"}, {\"geometry\": {\"coordinates\": [[[-84.254613, 32.372053], [-84.392316, 32.414046], [-84.444353, 32.562083], [-84.408866, 32.561923], [-84.33794, 32.720647], [-84.286246, 32.747626], [-84.202628, 32.690018], [-84.104966, 32.673385], [-84.003363, 32.529927], [-84.001069, 32.520586], [-84.00849, 32.521769], [-84.122347, 32.505921], [-84.254613, 32.372053]]], \"type\": \"Polygon\"}, \"id\": \"13269\", \"properties\": {\"CENSUSAREA\": 376.686, \"COUNTY\": \"269\", \"GEO_ID\": \"0500000US13269\", \"LSAD\": \"County\", \"NAME\": \"Taylor\", \"STATE\": \"13\"}, \"type\": \"Feature\"}, {\"geometry\": {\"coordinates\": [[[-84.083753, 30.675954], [-84.076964, 30.91557], [-84.119058, 30.980956], [-84.116644, 31.077971], [-84.004502, 31.077192], [-84.003627, 31.07729], [-84.003876, 31.041582], [-83.736158, 31.037679], [-83.743729, 30.658396], [-83.810536, 30.66188], [-83.820886, 30.662612], [-83.855216, 30.664412], [-83.88022, 30.665832], [-83.880317, 30.665807], [-84.007391, 30.672097], [-84.007454, 30.6721], [-84.039707, 30.673819], [-84.04181, 30.673878], [-84.046605, 30.6742], [-84.057228, 30.674705], [-84.083753, 30.675954]]], \"type\": \"Polygon\"}, \"id\": \"13275\", \"properties\": {\"CENSUSAREA\": 544.596, \"COUNTY\": \"275\", \"GEO_ID\": \"0500000US13275\", \"LSAD\": \"County\", \"NAME\": \"Thomas\", \"STATE\": \"13\"}, \"type\": \"Feature\"}, {\"geometry\": {\"coordinates\": [[[-82.431531, 31.966182], [-82.439351, 31.96779], [-82.444451, 31.96749], [-82.452051, 31.96459], [-82.458152, 31.96389], [-82.479607, 31.971653], [-82.483131, 31.968961], [-82.40913, 32.353738], [-82.409127, 32.353772], [-82.409118, 32.35381], [-82.409118, 32.35383], [-82.354546, 32.292194], [-82.232788, 32.318838], [-82.182017, 32.165593], [-82.225042, 31.913074], [-82.431531, 31.966182]]], \"type\": \"Polygon\"}, \"id\": \"13279\", \"properties\": {\"CENSUSAREA\": 364.005, \"COUNTY\": \"279\", \"GEO_ID\": \"0500000US13279\", \"LSAD\": \"County\", \"NAME\": \"Toombs\", \"STATE\": \"13\"}, \"type\": \"Feature\"}, {\"geometry\": {\"coordinates\": [[[-83.780401, 34.792893], [-83.819099, 34.91369], [-83.915104, 34.926887], [-83.936413, 34.987485], [-83.673621, 34.987111], [-83.620185, 34.992091], [-83.549381, 34.992492], [-83.656792, 34.878492], [-83.652194, 34.822993], [-83.657921, 34.813682], [-83.666855, 34.806528], [-83.681596, 34.800593], [-83.685685, 34.800997], [-83.693155, 34.797322], [-83.69599, 34.79352], [-83.701813, 34.792488], [-83.704146, 34.790982], [-83.707757, 34.79171], [-83.711803, 34.79052], [-83.714186, 34.793112], [-83.721035, 34.79611], [-83.72203, 34.797271], [-83.726874, 34.797732], [-83.735981, 34.800071], [-83.743107, 34.801191], [-83.780401, 34.792893]]], \"type\": \"Polygon\"}, \"id\": \"13281\", \"properties\": {\"CENSUSAREA\": 166.563, \"COUNTY\": \"281\", \"GEO_ID\": \"0500000US13281\", \"LSAD\": \"County\", \"NAME\": \"Towns\", \"STATE\": \"13\"}, \"type\": \"Feature\"}, {\"geometry\": {\"coordinates\": [[[-83.40699, 32.89822], [-83.226536, 32.584201], [-83.497923, 32.452198], [-83.566198, 32.660786], [-83.597656, 32.664338], [-83.502603, 32.801119], [-83.513511, 32.844868], [-83.407668, 32.897822], [-83.40699, 32.89822]]], \"type\": \"Polygon\"}, \"id\": \"13289\", \"properties\": {\"CENSUSAREA\": 358.398, \"COUNTY\": \"289\", \"GEO_ID\": \"0500000US13289\", \"LSAD\": \"County\", \"NAME\": \"Twiggs\", \"STATE\": \"13\"}, \"type\": \"Feature\"}, {\"geometry\": {\"coordinates\": [[[-85.069159, 34.587184], [-85.107748, 34.587483], [-85.527127, 34.588684], [-85.534423, 34.623789], [-85.450409, 34.759241], [-85.450561, 34.831677], [-85.363919, 34.983375], [-85.308257, 34.984375], [-85.305457, 34.984475], [-85.301488, 34.984475], [-85.2945, 34.984651], [-85.277556, 34.984975], [-85.275856, 34.984975], [-85.265055, 34.985075], [-85.264762, 34.854277], [-85.20218, 34.854451], [-85.201856, 34.77508], [-85.144789, 34.767639], [-85.168851, 34.720279], [-85.050847, 34.71998], [-85.050446, 34.622482], [-85.055095, 34.62239], [-85.055206, 34.622383], [-85.06038, 34.62245], [-85.060499, 34.587184], [-85.069159, 34.587184]]], \"type\": \"Polygon\"}, \"id\": \"13295\", \"properties\": {\"CENSUSAREA\": 446.379, \"COUNTY\": \"295\", \"GEO_ID\": \"0500000US13295\", \"LSAD\": \"County\", \"NAME\": \"Walker\", \"STATE\": \"13\"}, \"type\": \"Feature\"}, {\"geometry\": {\"coordinates\": [[[-82.383829, 33.312106], [-82.431957, 33.27483], [-82.559753, 33.32727], [-82.755846, 33.25344], [-82.851954, 33.443543], [-82.815315, 33.521137], [-82.751275, 33.510143], [-82.679975, 33.599792], [-82.670284, 33.604138], [-82.65912, 33.603048], [-82.656606, 33.596812], [-82.652208, 33.596718], [-82.655937, 33.60661], [-82.652439, 33.611202], [-82.649705, 33.608768], [-82.549373, 33.357748], [-82.383829, 33.312106]]], \"type\": \"Polygon\"}, \"id\": \"13301\", \"properties\": {\"CENSUSAREA\": 284.298, \"COUNTY\": \"301\", \"GEO_ID\": \"0500000US13301\", \"LSAD\": \"County\", \"NAME\": \"Warren\", \"STATE\": \"13\"}, \"type\": \"Feature\"}, {\"geometry\": {\"coordinates\": [[[-83.355269, 34.22373], [-83.372429, 34.205933], [-83.400125, 34.200525], [-83.402428, 34.197499], [-83.480361, 34.262038], [-83.620115, 34.295276], [-83.669473, 34.366689], [-83.615251, 34.431748], [-83.537538, 34.491725], [-83.45977, 34.481142], [-83.413586, 34.468014], [-83.398396, 34.460883], [-83.393915, 34.324801], [-83.355269, 34.22373]]], \"type\": \"Polygon\"}, \"id\": \"13011\", \"properties\": {\"CENSUSAREA\": 232.091, \"COUNTY\": \"011\", \"GEO_ID\": \"0500000US13011\", \"LSAD\": \"County\", \"NAME\": \"Banks\", \"STATE\": \"13\"}, \"type\": \"Feature\"}, {\"geometry\": {\"coordinates\": [[[-83.197971, 31.025405], [-83.273731, 31.026658], [-83.280476, 31.02658], [-83.295052, 31.027278], [-83.305611, 31.167233], [-83.434492, 31.350361], [-83.338728, 31.475991], [-83.146085, 31.472088], [-83.145587, 31.472276], [-83.145874, 31.468926], [-83.150846, 31.462262], [-83.150474, 31.456787], [-83.144891, 31.454633], [-83.138618, 31.441528], [-83.139448, 31.436466], [-83.135927, 31.43051], [-83.138998, 31.427784], [-83.140483, 31.420395], [-83.033531, 31.27467], [-83.046885, 31.18368], [-83.038246, 31.146705], [-83.165072, 31.147198], [-83.197971, 31.025405]]], \"type\": \"Polygon\"}, \"id\": \"13019\", \"properties\": {\"CENSUSAREA\": 451.897, \"COUNTY\": \"019\", \"GEO_ID\": \"0500000US13019\", \"LSAD\": \"County\", \"NAME\": \"Berrien\", \"STATE\": \"13\"}, \"type\": \"Feature\"}, {\"geometry\": {\"coordinates\": [[[-83.574857, 31.078135], [-83.475617, 31.031964], [-83.476889, 31.030987], [-83.473792, 31.031276], [-83.47326, 31.028452], [-83.472275, 31.029742], [-83.470776, 31.028531], [-83.468295, 31.028481], [-83.471596, 31.026583], [-83.471324, 31.02386], [-83.467778, 31.021635], [-83.465898, 31.018502], [-83.466784, 31.013886], [-83.464269, 31.011093], [-83.463689, 31.005935], [-83.461306, 31.005709], [-83.460412, 31.002812], [-83.458129, 31.000859], [-83.358989, 30.83671], [-83.449293, 30.817957], [-83.482461, 30.756931], [-83.357703, 30.637359], [-83.37946, 30.63868], [-83.390062, 30.639333], [-83.429477, 30.641519], [-83.429584, 30.641496], [-83.440021, 30.642023], [-83.448895, 30.64241], [-83.611667, 30.651255], [-83.61172, 30.651258], [-83.674058, 30.654747], [-83.676773, 30.654905], [-83.743729, 30.658396], [-83.736158, 31.037679], [-83.573959, 31.033875], [-83.574857, 31.078135]]], \"type\": \"Polygon\"}, \"id\": \"13027\", \"properties\": {\"CENSUSAREA\": 493.046, \"COUNTY\": \"027\", \"GEO_ID\": \"0500000US13027\", \"LSAD\": \"County\", \"NAME\": \"Brooks\", \"STATE\": \"13\"}, \"type\": \"Feature\"}, {\"geometry\": {\"coordinates\": [[[-81.851975, 33.247408], [-81.772251, 33.18012], [-81.696934, 33.116551], [-81.620287, 33.095408], [-81.615756, 33.092534], [-81.541831, 33.045654], [-81.767553, 32.909411], [-81.857976, 32.953882], [-82.081331, 32.916782], [-82.144977, 32.812741], [-82.316512, 32.835772], [-82.272353, 32.937796], [-82.29118, 33.062827], [-82.232554, 33.231211], [-82.26758, 33.267397], [-82.17424, 33.296771], [-82.088162, 33.230245], [-81.851975, 33.247408]]], \"type\": \"Polygon\"}, \"id\": \"13033\", \"properties\": {\"CENSUSAREA\": 826.968, \"COUNTY\": \"033\", \"GEO_ID\": \"0500000US13033\", \"LSAD\": \"County\", \"NAME\": \"Burke\", \"STATE\": \"13\"}, \"type\": \"Feature\"}, {\"geometry\": {\"coordinates\": [[[-81.906014, 30.822176], [-81.892028, 30.960474], [-81.936006, 31.047993], [-81.766322, 31.169595], [-81.572692, 31.097269], [-81.44317, 31.016661], [-81.451444, 31.015515], [-81.457795, 31.010259], [-81.45924, 31.005692], [-81.469298, 30.996028], [-81.490586, 30.984952], [-81.493651, 30.977528], [-81.486966, 30.969602], [-81.475789, 30.965976], [-81.472321, 30.969899], [-81.466814, 30.97091], [-81.453568, 30.965573], [-81.447388, 30.956732], [-81.426929, 30.956615], [-81.420108, 30.974076], [-81.415825, 30.977192], [-81.408484, 30.977718], [-81.403409, 30.957914], [-81.405153, 30.908203], [-81.428577, 30.836336], [-81.430835, 30.831156], [-81.44013, 30.821369], [-81.446927, 30.81039], [-81.455287, 30.79093], [-81.460061, 30.769912], [-81.461065, 30.753684], [-81.45947, 30.741979], [-81.449375, 30.715601], [-81.444124, 30.709714], [-81.544618, 30.712636], [-81.606221, 30.718135], [-81.624298, 30.736194], [-81.637222, 30.733835], [-81.719927, 30.744634], [-81.732627, 30.749934], [-81.741278, 30.762681], [-81.759338, 30.771377], [-81.806652, 30.789683], [-81.827014, 30.788933], [-81.840375, 30.786384], [-81.868608, 30.792754], [-81.906014, 30.822176]]], \"type\": \"Polygon\"}, \"id\": \"13039\", \"properties\": {\"CENSUSAREA\": 613.025, \"COUNTY\": \"039\", \"GEO_ID\": \"0500000US13039\", \"LSAD\": \"County\", \"NAME\": \"Camden\", \"STATE\": \"13\"}, \"type\": \"Feature\"}, {\"geometry\": {\"coordinates\": [[[-81.004115, 32.072225], [-80.885517, 32.0346], [-80.859111, 32.023693], [-80.852276, 32.026676], [-80.84313, 32.024226], [-80.840549, 32.011306], [-80.841913, 32.002643], [-80.848441, 31.988279], [-80.862814, 31.969346], [-80.882814, 31.959075], [-80.897687, 31.949065], [-80.911207, 31.943769], [-80.929101, 31.944964], [-80.930279, 31.956705], [-80.948491, 31.95723], [-80.972392, 31.94127], [-80.975714, 31.923602], [-80.968494, 31.915822], [-80.954469, 31.911768], [-80.941359, 31.912984], [-80.934508, 31.90918], [-80.947294, 31.89621], [-80.971434, 31.877941], [-80.99269, 31.857641], [-81.000317, 31.856744], [-81.014478, 31.867474], [-81.041548, 31.876198], [-81.065255, 31.877095], [-81.058596, 31.857811], [-81.05907, 31.850106], [-81.06279, 31.84474], [-81.076178, 31.836132], [-81.075812, 31.829031], [-81.057181, 31.822687], [-81.050946, 31.822383], [-81.04794, 31.824881], [-81.039808, 31.823], [-81.036958, 31.819558], [-81.036873, 31.812721], [-81.047345, 31.802865], [-81.068116, 31.768735], [-81.077057, 31.761256], [-81.097402, 31.753126], [-81.130634, 31.722692], [-81.138448, 31.720934], [-81.154686, 31.726203], [-81.177027, 31.816113], [-81.138533, 31.855921], [-81.285467, 31.942994], [-81.323529, 32.019854], [-81.391698, 32.095886], [-81.195634, 32.237499], [-81.125457, 32.22713], [-81.122034, 32.161803], [-81.117234, 32.117605], [-81.113334, 32.113205], [-81.06185, 32.087935], [-81.042833, 32.084508], [-81.004115, 32.072225]]], \"type\": \"Polygon\"}, \"id\": \"13051\", \"properties\": {\"CENSUSAREA\": 426.437, \"COUNTY\": \"051\", \"GEO_ID\": \"0500000US13051\", \"LSAD\": \"County\", \"NAME\": \"Chatham\", \"STATE\": \"13\"}, \"type\": \"Feature\"}, {\"geometry\": {\"coordinates\": [[[-84.817843, 31.619771], [-84.819807, 31.501192], [-85.029227, 31.486071], [-85.046859, 31.517451], [-85.041305, 31.540987], [-85.057473, 31.618624], [-85.059534, 31.621717], [-85.065236, 31.624351], [-85.087029, 31.640966], [-85.12553, 31.694965], [-85.12653, 31.716764], [-85.12223, 31.722764], [-85.11893, 31.732664], [-85.124501, 31.763081], [-85.12523, 31.767063], [-85.130731, 31.772263], [-85.138668, 31.780425], [-84.95864, 31.777854], [-84.942353, 31.618669], [-84.817843, 31.619771]]], \"type\": \"Polygon\"}, \"id\": \"13061\", \"properties\": {\"CENSUSAREA\": 195.381, \"COUNTY\": \"061\", \"GEO_ID\": \"0500000US13061\", \"LSAD\": \"County\", \"NAME\": \"Clay\", \"STATE\": \"13\"}, \"type\": \"Feature\"}, {\"geometry\": {\"coordinates\": [[[-84.637579, 31.433926], [-84.429876, 31.436661], [-84.141124, 31.440179], [-84.20066, 31.355525], [-84.340552, 31.305341], [-84.40435, 31.199143], [-84.48331, 31.155536], [-84.508078, 31.0784], [-84.542653, 31.079029], [-84.537101, 31.255932], [-84.641673, 31.258967], [-84.637579, 31.433926]]], \"type\": \"Polygon\"}, \"id\": \"13007\", \"properties\": {\"CENSUSAREA\": 341.944, \"COUNTY\": \"007\", \"GEO_ID\": \"0500000US13007\", \"LSAD\": \"County\", \"NAME\": \"Baker\", \"STATE\": \"13\"}, \"type\": \"Feature\"}, {\"geometry\": {\"coordinates\": [[[-83.710685, 32.952792], [-83.658211, 32.887913], [-83.513511, 32.844868], [-83.502603, 32.801119], [-83.597656, 32.664338], [-83.701152, 32.692169], [-83.824398, 32.741861], [-83.891922, 32.848351], [-83.710685, 32.952792]]], \"type\": \"Polygon\"}, \"id\": \"13021\", \"properties\": {\"CENSUSAREA\": 249.762, \"COUNTY\": \"021\", \"GEO_ID\": \"0500000US13021\", \"LSAD\": \"County\", \"NAME\": \"Bibb\", \"STATE\": \"13\"}, \"type\": \"Feature\"}, {\"geometry\": {\"coordinates\": [[[-83.863058, 33.368278], [-83.814103, 33.242134], [-83.822261, 33.180238], [-84.041498, 33.202629], [-84.123767, 33.202824], [-84.102582, 33.298191], [-84.042663, 33.333501], [-84.044597, 33.333495], [-84.044594, 33.333656], [-83.923913, 33.444194], [-83.863058, 33.368278]]], \"type\": \"Polygon\"}, \"id\": \"13035\", \"properties\": {\"CENSUSAREA\": 184.393, \"COUNTY\": \"035\", \"GEO_ID\": \"0500000US13035\", \"LSAD\": \"County\", \"NAME\": \"Butts\", \"STATE\": \"13\"}, \"type\": \"Feature\"}, {\"geometry\": {\"coordinates\": [[[-85.144789, 34.767639], [-85.201856, 34.77508], [-85.20218, 34.854451], [-85.264762, 34.854277], [-85.265055, 34.985075], [-85.254955, 34.985175], [-85.235555, 34.985475], [-85.230354, 34.985475], [-85.221854, 34.985475], [-85.220554, 34.985575], [-85.217854, 34.985675], [-85.216554, 34.985675], [-85.185905, 34.985995], [-85.180553, 34.986075], [-85.045183, 34.986883], [-85.045052, 34.986859], [-84.97986, 34.987647], [-85.061648, 34.819478], [-85.144789, 34.767639]]], \"type\": \"Polygon\"}, \"id\": \"13047\", \"properties\": {\"CENSUSAREA\": 162.159, \"COUNTY\": \"047\", \"GEO_ID\": \"0500000US13047\", \"LSAD\": \"County\", \"NAME\": \"Catoosa\", \"STATE\": \"13\"}, \"type\": \"Feature\"}, {\"geometry\": {\"coordinates\": [[[-82.459792, 30.584287], [-82.524899, 30.588189], [-82.536233, 30.588885], [-82.545055, 30.589361], [-82.553159, 30.589934], [-82.565476, 30.590622], [-82.569237, 30.590965], [-82.584002, 30.591796], [-82.604005, 30.713676], [-82.766159, 30.732404], [-82.846353, 30.834988], [-82.971336, 30.869392], [-82.971247, 31.183988], [-82.671669, 31.183739], [-82.592071, 31.018487], [-82.490558, 30.963166], [-82.495476, 30.819553], [-82.435852, 30.820068], [-82.418915, 30.581745], [-82.459544, 30.584272], [-82.459792, 30.584287]]], \"type\": \"Polygon\"}, \"id\": \"13065\", \"properties\": {\"CENSUSAREA\": 800.222, \"COUNTY\": \"065\", \"GEO_ID\": \"0500000US13065\", \"LSAD\": \"County\", \"NAME\": \"Clinch\", \"STATE\": \"13\"}, \"type\": \"Feature\"}, {\"geometry\": {\"coordinates\": [[[-83.295052, 31.027278], [-83.475617, 31.031964], [-83.574857, 31.078135], [-83.50981, 31.206181], [-83.512607, 31.327405], [-83.460644, 31.326263], [-83.434492, 31.350361], [-83.305611, 31.167233], [-83.295052, 31.027278]]], \"type\": \"Polygon\"}, \"id\": \"13075\", \"properties\": {\"CENSUSAREA\": 227.162, \"COUNTY\": \"075\", \"GEO_ID\": \"0500000US13075\", \"LSAD\": \"County\", \"NAME\": \"Cook\", \"STATE\": \"13\"}, \"type\": \"Feature\"}, {\"geometry\": {\"coordinates\": [[[-84.258075, 34.335156], [-84.257812, 34.372631], [-84.257652, 34.375111], [-84.257586, 34.380992], [-84.256867, 34.467327], [-84.319679, 34.467857], [-84.345553, 34.562735], [-84.255112, 34.568333], [-84.196754, 34.617924], [-84.189026, 34.608109], [-84.188557, 34.602692], [-84.19104, 34.539181], [-84.102037, 34.464544], [-83.980649, 34.418389], [-83.957077, 34.334011], [-84.258075, 34.335156]]], \"type\": \"Polygon\"}, \"id\": \"13085\", \"properties\": {\"CENSUSAREA\": 210.83, \"COUNTY\": \"085\", \"GEO_ID\": \"0500000US13085\", \"LSAD\": \"County\", \"NAME\": \"Dawson\", \"STATE\": \"13\"}, \"type\": \"Feature\"}, {\"geometry\": {\"coordinates\": [[[-85.046859, 31.517451], [-85.029227, 31.486071], [-84.819807, 31.501192], [-84.789032, 31.436356], [-84.637579, 31.433926], [-84.641673, 31.258967], [-84.91743, 31.25599], [-84.922423, 31.07259], [-84.999869, 31.074736], [-85.001928, 31.074983], [-85.022121, 31.07548], [-85.029736, 31.096163], [-85.035615, 31.108192], [-85.076628, 31.156927], [-85.083582, 31.15963], [-85.092106, 31.160293], [-85.100207, 31.16549], [-85.107516, 31.186451], [-85.111871, 31.258388], [-85.101561, 31.283362], [-85.087651, 31.308677], [-85.068065, 31.427586], [-85.046859, 31.517451]]], \"type\": \"Polygon\"}, \"id\": \"13099\", \"properties\": {\"CENSUSAREA\": 512.594, \"COUNTY\": \"099\", \"GEO_ID\": \"0500000US13099\", \"LSAD\": \"County\", \"NAME\": \"Early\", \"STATE\": \"13\"}, \"type\": \"Feature\"}, {\"geometry\": {\"coordinates\": [[[-84.258075, 34.335156], [-83.957077, 34.334011], [-83.927284, 34.279399], [-83.989059, 34.195732], [-84.062841, 34.167873], [-84.074624, 34.163687], [-84.094763, 34.131708], [-84.101343, 34.106305], [-84.10261, 34.103788], [-84.105403, 34.102223], [-84.107143, 34.10003], [-84.109894, 34.098423], [-84.117801, 34.065315], [-84.097692, 34.050654], [-84.200373, 34.090118], [-84.258934, 34.109539], [-84.258743, 34.185909], [-84.258075, 34.335156]]], \"type\": \"Polygon\"}, \"id\": \"13117\", \"properties\": {\"CENSUSAREA\": 224.021, \"COUNTY\": \"117\", \"GEO_ID\": \"0500000US13117\", \"LSAD\": \"County\", \"NAME\": \"Forsyth\", \"STATE\": \"13\"}, \"type\": \"Feature\"}, {\"geometry\": {\"coordinates\": [[[-84.65582, 31.920308], [-84.649319, 32.232953], [-84.527117, 32.134556], [-84.431214, 32.134058], [-84.443807, 31.967456], [-84.45331, 31.919224], [-84.599776, 31.920171], [-84.65582, 31.920308]]], \"type\": \"Polygon\"}, \"id\": \"13307\", \"properties\": {\"CENSUSAREA\": 209.118, \"COUNTY\": \"307\", \"GEO_ID\": \"0500000US13307\", \"LSAD\": \"County\", \"NAME\": \"Webster\", \"STATE\": \"13\"}, \"type\": \"Feature\"}, {\"geometry\": {\"coordinates\": [[[-83.856506, 34.722191], [-83.780401, 34.792893], [-83.743107, 34.801191], [-83.735981, 34.800071], [-83.726874, 34.797732], [-83.72203, 34.797271], [-83.721035, 34.79611], [-83.714186, 34.793112], [-83.711803, 34.79052], [-83.707757, 34.79171], [-83.704146, 34.790982], [-83.701813, 34.792488], [-83.69599, 34.79352], [-83.693155, 34.797322], [-83.685685, 34.800997], [-83.681596, 34.800593], [-83.623296, 34.732194], [-83.662819, 34.659801], [-83.61554, 34.552864], [-83.666413, 34.503598], [-83.843405, 34.505494], [-83.877276, 34.629597], [-83.856506, 34.722191]]], \"type\": \"Polygon\"}, \"id\": \"13311\", \"properties\": {\"CENSUSAREA\": 240.686, \"COUNTY\": \"311\", \"GEO_ID\": \"0500000US13311\", \"LSAD\": \"County\", \"NAME\": \"White\", \"STATE\": \"13\"}, \"type\": \"Feature\"}, {\"geometry\": {\"coordinates\": [[[-83.177469, 31.847857], [-83.480176, 31.847312], [-83.612256, 31.854089], [-83.609663, 32.027938], [-83.608407, 32.116466], [-83.608547, 32.118405], [-83.337313, 32.105885], [-83.292061, 31.984506], [-83.205739, 31.900325], [-83.177469, 31.847857]]], \"type\": \"Polygon\"}, \"id\": \"13315\", \"properties\": {\"CENSUSAREA\": 377.705, \"COUNTY\": \"315\", \"GEO_ID\": \"0500000US13315\", \"LSAD\": \"County\", \"NAME\": \"Wilcox\", \"STATE\": \"13\"}, \"type\": \"Feature\"}, {\"geometry\": {\"coordinates\": [[[-85.605165, 34.984678], [-85.474472, 34.983972], [-85.363919, 34.983375], [-85.450561, 34.831677], [-85.450409, 34.759241], [-85.534423, 34.623789], [-85.541264, 34.656701], [-85.541267, 34.656783], [-85.552454, 34.708138], [-85.552482, 34.708321], [-85.583145, 34.860371], [-85.595163, 34.924171], [-85.595191, 34.924331], [-85.605165, 34.984678]]], \"type\": \"Polygon\"}, \"id\": \"13083\", \"properties\": {\"CENSUSAREA\": 173.981, \"COUNTY\": \"083\", \"GEO_ID\": \"0500000US13083\", \"LSAD\": \"County\", \"NAME\": \"Dade\", \"STATE\": \"13\"}, \"type\": \"Feature\"}, {\"geometry\": {\"coordinates\": [[[-84.254149, 33.647045], [-84.281273, 33.647411], [-84.282619, 33.647009], [-84.350224, 33.647908], [-84.349799, 33.664035], [-84.348325, 33.852503], [-84.348138, 33.857692], [-84.348225, 33.859502], [-84.348525, 33.861903], [-84.348125, 33.864903], [-84.348325, 33.867903], [-84.348125, 33.879203], [-84.348425, 33.881902], [-84.348224, 33.8929], [-84.348225, 33.904802], [-84.348025, 33.918302], [-84.347825, 33.918902], [-84.347925, 33.927001], [-84.347823, 33.938017], [-84.276822, 33.9577], [-84.275722, 33.954201], [-84.271922, 33.9559], [-84.266306, 33.947577], [-84.272216, 33.944853], [-84.265337, 33.932576], [-84.259011, 33.91882], [-84.256022, 33.914401], [-84.250413, 33.910812], [-84.23222, 33.902002], [-84.21663, 33.884976], [-84.20472, 33.877003], [-84.203519, 33.873003], [-84.187005, 33.865515], [-84.179418, 33.864403], [-84.172139, 33.857516], [-84.023713, 33.752808], [-84.056614, 33.726608], [-84.104334, 33.636025], [-84.184143, 33.646157], [-84.223952, 33.646572], [-84.224235, 33.630657], [-84.245453, 33.63073], [-84.254149, 33.647045]]], \"type\": \"Polygon\"}, \"id\": \"13089\", \"properties\": {\"CENSUSAREA\": 267.582, \"COUNTY\": \"089\", \"GEO_ID\": \"0500000US13089\", \"LSAD\": \"County\", \"NAME\": \"DeKalb\", \"STATE\": \"13\"}, \"type\": \"Feature\"}, {\"geometry\": {\"coordinates\": [[[-84.769935, 33.784704], [-84.741348, 33.788568], [-84.725477, 33.788579], [-84.724122, 33.791439], [-84.724139, 33.80617], [-84.619892, 33.805024], [-84.578132, 33.743507], [-84.586826, 33.729114], [-84.594332, 33.729007], [-84.601732, 33.724408], [-84.608032, 33.712908], [-84.621232, 33.704508], [-84.632131, 33.700312], [-84.630117, 33.693116], [-84.752735, 33.63021], [-84.763097, 33.614211], [-84.775591, 33.609662], [-84.805655, 33.58642], [-84.808934, 33.574085], [-84.905788, 33.573378], [-84.902546, 33.661066], [-84.901688, 33.780703], [-84.879151, 33.774758], [-84.832708, 33.776019], [-84.832705, 33.778522], [-84.799853, 33.779909], [-84.795109, 33.779809], [-84.791993, 33.781162], [-84.769935, 33.784704]]], \"type\": \"Polygon\"}, \"id\": \"13097\", \"properties\": {\"CENSUSAREA\": 200.067, \"COUNTY\": \"097\", \"GEO_ID\": \"0500000US13097\", \"LSAD\": \"County\", \"NAME\": \"Douglas\", \"STATE\": \"13\"}, \"type\": \"Feature\"}, {\"geometry\": {\"coordinates\": [[[-82.741491, 34.208709], [-82.731881, 34.178363], [-82.717507, 34.150504], [-82.70414, 34.141007], [-82.67732, 34.131657], [-82.668113, 34.12016], [-82.659077, 34.103544], [-82.658561, 34.103118], [-82.654019, 34.100346], [-82.652175, 34.099704], [-82.641252, 34.088914], [-82.640701, 34.088341], [-82.597079, 34.01239], [-82.564582, 33.95581], [-82.564483, 33.955744], [-82.645451, 33.984195], [-82.779506, 33.971124], [-82.976294, 34.043219], [-83.102074, 34.173794], [-83.078004, 34.223606], [-82.980905, 34.211505], [-82.766078, 34.293509], [-82.755028, 34.276067], [-82.74198, 34.230196], [-82.743461, 34.227343], [-82.744415, 34.224913], [-82.74192, 34.210063], [-82.741491, 34.208709]]], \"type\": \"Polygon\"}, \"id\": \"13105\", \"properties\": {\"CENSUSAREA\": 351.055, \"COUNTY\": \"105\", \"GEO_ID\": \"0500000US13105\", \"LSAD\": \"County\", \"NAME\": \"Elbert\", \"STATE\": \"13\"}, \"type\": \"Feature\"}, {\"geometry\": {\"coordinates\": [[[-84.621483, 34.988329], [-84.509886, 34.98801], [-84.509052, 34.988033], [-84.394903, 34.98803], [-84.393935, 34.988068], [-84.321869, 34.988408], [-84.129555, 34.987504], [-84.129455, 34.987504], [-84.178672, 34.946497], [-84.107422, 34.886896], [-84.093193, 34.801411], [-84.158035, 34.648243], [-84.188557, 34.602692], [-84.189026, 34.608109], [-84.196754, 34.617924], [-84.314653, 34.807328], [-84.429093, 34.855036], [-84.618637, 34.855398], [-84.621483, 34.988329]]], \"type\": \"Polygon\"}, \"id\": \"13111\", \"properties\": {\"CENSUSAREA\": 386.723, \"COUNTY\": \"111\", \"GEO_ID\": \"0500000US13111\", \"LSAD\": \"County\", \"NAME\": \"Fannin\", \"STATE\": \"13\"}, \"type\": \"Feature\"}, {\"geometry\": {\"coordinates\": [[[-84.752735, 33.63021], [-84.630117, 33.693116], [-84.632131, 33.700312], [-84.621232, 33.704508], [-84.608032, 33.712908], [-84.601732, 33.724408], [-84.594332, 33.729007], [-84.586826, 33.729114], [-84.578132, 33.743507], [-84.480134, 33.817319], [-84.442708, 33.901543], [-84.383027, 33.9638], [-84.418927, 34.073298], [-84.328263, 34.186144], [-84.258743, 34.185909], [-84.258934, 34.109539], [-84.200373, 34.090118], [-84.097692, 34.050654], [-84.276822, 33.9577], [-84.347823, 33.938017], [-84.347925, 33.927001], [-84.347825, 33.918902], [-84.348025, 33.918302], [-84.348225, 33.904802], [-84.348224, 33.8929], [-84.348425, 33.881902], [-84.348125, 33.879203], [-84.348325, 33.867903], [-84.348125, 33.864903], [-84.348525, 33.861903], [-84.348225, 33.859502], [-84.348138, 33.857692], [-84.348325, 33.852503], [-84.349799, 33.664035], [-84.350224, 33.647908], [-84.360224, 33.647909], [-84.365325, 33.647809], [-84.457726, 33.64887], [-84.458514, 33.608625], [-84.458627, 33.586456], [-84.458399, 33.572743], [-84.45863, 33.572107], [-84.458927, 33.565911], [-84.458924, 33.559759], [-84.458579, 33.556242], [-84.458665, 33.550933], [-84.60954, 33.502511], [-84.850713, 33.511457], [-84.808934, 33.574085], [-84.805655, 33.58642], [-84.775591, 33.609662], [-84.763097, 33.614211], [-84.752735, 33.63021]]], \"type\": \"Polygon\"}, \"id\": \"13121\", \"properties\": {\"CENSUSAREA\": 526.635, \"COUNTY\": \"121\", \"GEO_ID\": \"0500000US13121\", \"LSAD\": \"County\", \"NAME\": \"Fulton\", \"STATE\": \"13\"}, \"type\": \"Feature\"}, {\"geometry\": {\"coordinates\": [[[-81.44317, 31.016661], [-81.572692, 31.097269], [-81.766322, 31.169595], [-81.731694, 31.330048], [-81.69199, 31.400519], [-81.62429, 31.452982], [-81.435874, 31.313263], [-81.269906, 31.294489], [-81.274688, 31.289454], [-81.276862, 31.254734], [-81.282842, 31.24433], [-81.289136, 31.225487], [-81.288403, 31.211065], [-81.293359, 31.206332], [-81.304957, 31.206173], [-81.314183, 31.207938], [-81.339028, 31.186918], [-81.35488, 31.167204], [-81.360791, 31.155903], [-81.359349, 31.149166], [-81.368241, 31.136534], [-81.38683, 31.133214], [-81.399677, 31.134113], [-81.402096, 31.125383], [-81.403732, 31.107115], [-81.401209, 31.086143], [-81.401267, 31.072781], [-81.415123, 31.026718], [-81.420474, 31.016703], [-81.424732, 31.013678], [-81.432475, 31.012991], [-81.43471, 31.014641], [-81.434923, 31.017804], [-81.44317, 31.016661]]], \"type\": \"Polygon\"}, \"id\": \"13127\", \"properties\": {\"CENSUSAREA\": 419.753, \"COUNTY\": \"127\", \"GEO_ID\": \"0500000US13127\", \"LSAD\": \"County\", \"NAME\": \"Glynn\", \"STATE\": \"13\"}, \"type\": \"Feature\"}, {\"geometry\": {\"coordinates\": [[[-83.164207, 33.35503], [-83.279931, 33.483438], [-83.269213, 33.533226], [-83.406189, 33.698307], [-83.28034, 33.761774], [-83.118729, 33.698818], [-82.995602, 33.693583], [-82.951142, 33.658032], [-83.014038, 33.580383], [-83.012853, 33.469178], [-83.164207, 33.35503]]], \"type\": \"Polygon\"}, \"id\": \"13133\", \"properties\": {\"CENSUSAREA\": 387.435, \"COUNTY\": \"133\", \"GEO_ID\": \"0500000US13133\", \"LSAD\": \"County\", \"NAME\": \"Greene\", \"STATE\": \"13\"}, \"type\": \"Feature\"}, {\"geometry\": {\"coordinates\": [[[-85.386693, 33.901697], [-85.05031, 33.904488], [-85.036684, 33.904327], [-85.037926, 33.811942], [-85.050889, 33.714632], [-85.337974, 33.653111], [-85.360491, 33.767958], [-85.361844, 33.773951], [-85.386693, 33.901697]]], \"type\": \"Polygon\"}, \"id\": \"13143\", \"properties\": {\"CENSUSAREA\": 282.165, \"COUNTY\": \"143\", \"GEO_ID\": \"0500000US13143\", \"LSAD\": \"County\", \"NAME\": \"Haralson\", \"STATE\": \"13\"}, \"type\": \"Feature\"}, {\"geometry\": {\"coordinates\": [[[-83.848379, 32.29097], [-83.846676, 32.468514], [-83.719859, 32.53176], [-83.70109, 32.691598], [-83.701152, 32.692169], [-83.597656, 32.664338], [-83.566198, 32.660786], [-83.497923, 32.452198], [-83.482648, 32.424536], [-83.498039, 32.401715], [-83.615579, 32.288556], [-83.848379, 32.29097]]], \"type\": \"Polygon\"}, \"id\": \"13153\", \"properties\": {\"CENSUSAREA\": 375.541, \"COUNTY\": \"153\", \"GEO_ID\": \"0500000US13153\", \"LSAD\": \"County\", \"NAME\": \"Houston\", \"STATE\": \"13\"}, \"type\": \"Feature\"}, {\"geometry\": {\"coordinates\": [[[-82.434149, 32.762258], [-82.521052, 32.822356], [-82.510851, 32.917754], [-82.550197, 33.019247], [-82.661917, 33.126331], [-82.431957, 33.27483], [-82.383829, 33.312106], [-82.371972, 33.310879], [-82.357647, 33.312717], [-82.353498, 33.312318], [-82.311539, 33.297146], [-82.296855, 33.277349], [-82.286507, 33.274135], [-82.278539, 33.269174], [-82.26758, 33.267397], [-82.232554, 33.231211], [-82.29118, 33.062827], [-82.272353, 32.937796], [-82.316512, 32.835772], [-82.434149, 32.762258]]], \"type\": \"Polygon\"}, \"id\": \"13163\", \"properties\": {\"CENSUSAREA\": 526.485, \"COUNTY\": \"163\", \"GEO_ID\": \"0500000US13163\", \"LSAD\": \"County\", \"NAME\": \"Jefferson\", \"STATE\": \"13\"}, \"type\": \"Feature\"}, {\"geometry\": {\"coordinates\": [[[-81.491798, 31.699575], [-81.566009, 31.576467], [-81.663206, 31.538667], [-81.850624, 31.667671], [-81.969052, 31.789324], [-81.824405, 32.014882], [-81.750257, 31.973207], [-81.765357, 31.87454], [-81.641761, 31.765451], [-81.491798, 31.699575]]], \"type\": \"Polygon\"}, \"id\": \"13183\", \"properties\": {\"CENSUSAREA\": 400.293, \"COUNTY\": \"183\", \"GEO_ID\": \"0500000US13183\", \"LSAD\": \"County\", \"NAME\": \"Long\", \"STATE\": \"13\"}, \"type\": \"Feature\"}, {\"geometry\": {\"coordinates\": [[[-84.181657, 32.229703], [-84.255912, 32.296156], [-84.254613, 32.372053], [-84.122347, 32.505921], [-84.00849, 32.521769], [-83.846676, 32.468514], [-83.848379, 32.29097], [-83.965121, 32.248005], [-84.027853, 32.171083], [-84.181657, 32.229703]]], \"type\": \"Polygon\"}, \"id\": \"13193\", \"properties\": {\"CENSUSAREA\": 400.641, \"COUNTY\": \"193\", \"GEO_ID\": \"0500000US13193\", \"LSAD\": \"County\", \"NAME\": \"Macon\", \"STATE\": \"13\"}, \"type\": \"Feature\"}, {\"geometry\": {\"coordinates\": [[[-83.822261, 33.180238], [-83.824585, 33.17564], [-83.822929, 33.157856], [-83.814056, 33.14846], [-83.817268, 33.14154], [-83.816048, 33.131816], [-83.747004, 33.063373], [-83.710685, 32.952792], [-83.891922, 32.848351], [-84.124275, 32.849562], [-84.12334, 32.932184], [-84.044113, 32.947874], [-84.041498, 33.202629], [-83.822261, 33.180238]]], \"type\": \"Polygon\"}, \"id\": \"13207\", \"properties\": {\"CENSUSAREA\": 395.658, \"COUNTY\": \"207\", \"GEO_ID\": \"0500000US13207\", \"LSAD\": \"County\", \"NAME\": \"Monroe\", \"STATE\": \"13\"}, \"type\": \"Feature\"}, {\"geometry\": {\"coordinates\": [[[-83.505928, 33.81776], [-83.647031, 33.906198], [-83.537385, 33.965912], [-83.275933, 33.847977], [-83.28034, 33.761774], [-83.406189, 33.698307], [-83.505928, 33.81776]]], \"type\": \"Polygon\"}, \"id\": \"13219\", \"properties\": {\"CENSUSAREA\": 184.29, \"COUNTY\": \"219\", \"GEO_ID\": \"0500000US13219\", \"LSAD\": \"County\", \"NAME\": \"Oconee\", \"STATE\": \"13\"}, \"type\": \"Feature\"}, {\"geometry\": {\"coordinates\": [[[-84.654366, 34.548946], [-84.345553, 34.562735], [-84.319679, 34.467857], [-84.256867, 34.467327], [-84.257586, 34.380992], [-84.58263, 34.381492], [-84.653232, 34.41259], [-84.654366, 34.548946]]], \"type\": \"Polygon\"}, \"id\": \"13227\", \"properties\": {\"CENSUSAREA\": 232.057, \"COUNTY\": \"227\", \"GEO_ID\": \"0500000US13227\", \"LSAD\": \"County\", \"NAME\": \"Pickens\", \"STATE\": \"13\"}, \"type\": \"Feature\"}, {\"geometry\": {\"coordinates\": [[[-83.545876, 33.171944], [-83.537811, 33.393803], [-83.533736, 33.434472], [-83.279931, 33.483438], [-83.164207, 33.35503], [-83.145774, 33.312084], [-83.253461, 33.25929], [-83.274108, 33.187238], [-83.42909, 33.185352], [-83.545876, 33.171944]]], \"type\": \"Polygon\"}, \"id\": \"13237\", \"properties\": {\"CENSUSAREA\": 344.639, \"COUNTY\": \"237\", \"GEO_ID\": \"0500000US13237\", \"LSAD\": \"County\", \"NAME\": \"Putnam\", \"STATE\": \"13\"}, \"type\": \"Feature\"}, {\"geometry\": {\"coordinates\": [[[-84.254613, 32.372053], [-84.255912, 32.296156], [-84.181657, 32.229703], [-84.183569, 32.158493], [-84.430215, 32.166257], [-84.392316, 32.414046], [-84.254613, 32.372053]]], \"type\": \"Polygon\"}, \"id\": \"13249\", \"properties\": {\"CENSUSAREA\": 166.906, \"COUNTY\": \"249\", \"GEO_ID\": \"0500000US13249\", \"LSAD\": \"County\", \"NAME\": \"Schley\", \"STATE\": \"13\"}, \"type\": \"Feature\"}, {\"geometry\": {\"coordinates\": [[[-84.923638, 32.231539], [-84.65892, 32.232852], [-84.649319, 32.232953], [-84.65582, 31.920308], [-84.907006, 31.924465], [-85.062246, 31.991857], [-85.050212, 32.024196], [-85.056029, 32.063055], [-85.047865, 32.142033], [-84.995929, 32.184852], [-84.964828, 32.194952], [-84.923638, 32.231539]]], \"type\": \"Polygon\"}, \"id\": \"13259\", \"properties\": {\"CENSUSAREA\": 458.733, \"COUNTY\": \"259\", \"GEO_ID\": \"0500000US13259\", \"LSAD\": \"County\", \"NAME\": \"Stewart\", \"STATE\": \"13\"}, \"type\": \"Feature\"}, {\"geometry\": {\"coordinates\": [[[-82.995698, 31.780983], [-83.177469, 31.847857], [-83.205739, 31.900325], [-82.942066, 32.124074], [-82.955466, 32.135274], [-82.934566, 32.153274], [-82.927865, 32.135274], [-82.887657, 32.079891], [-82.729112, 32.006878], [-82.645659, 31.918883], [-82.836366, 31.816154], [-82.86309, 31.783005], [-82.995698, 31.780983]]], \"type\": \"Polygon\"}, \"id\": \"13271\", \"properties\": {\"CENSUSAREA\": 437.303, \"COUNTY\": \"271\", \"GEO_ID\": \"0500000US13271\", \"LSAD\": \"County\", \"NAME\": \"Telfair\", \"STATE\": \"13\"}, \"type\": \"Feature\"}, {\"geometry\": {\"coordinates\": [[[-82.409118, 32.35383], [-82.409118, 32.35381], [-82.409127, 32.353772], [-82.40913, 32.353738], [-82.655486, 32.297561], [-82.721964, 32.309283], [-82.737137, 32.33803], [-82.647733, 32.512507], [-82.488941, 32.49183], [-82.38194, 32.440596], [-82.409118, 32.35383]]], \"type\": \"Polygon\"}, \"id\": \"13283\", \"properties\": {\"CENSUSAREA\": 199.436, \"COUNTY\": \"283\", \"GEO_ID\": \"0500000US13283\", \"LSAD\": \"County\", \"NAME\": \"Treutlen\", \"STATE\": \"13\"}, \"type\": \"Feature\"}, {\"geometry\": {\"coordinates\": [[[-83.914823, 33.744203], [-83.953332, 33.768034], [-83.954499, 33.76892], [-83.982033, 33.786054], [-83.799104, 33.929844], [-83.763835, 33.896682], [-83.647031, 33.906198], [-83.505928, 33.81776], [-83.680896, 33.596919], [-83.77735, 33.658301], [-83.914823, 33.744203]]], \"type\": \"Polygon\"}, \"id\": \"13297\", \"properties\": {\"CENSUSAREA\": 325.68, \"COUNTY\": \"297\", \"GEO_ID\": \"0500000US13297\", \"LSAD\": \"County\", \"NAME\": \"Walton\", \"STATE\": \"13\"}, \"type\": \"Feature\"}, {\"geometry\": {\"coordinates\": [[[-84.109894, 34.098423], [-84.107143, 34.10003], [-84.105403, 34.102223], [-84.10261, 34.103788], [-84.101343, 34.106305], [-84.094763, 34.131708], [-84.074624, 34.163687], [-84.062841, 34.167873], [-83.86803, 34.098281], [-83.817682, 34.127493], [-83.869115, 34.004316], [-83.799104, 33.929844], [-83.982033, 33.786054], [-83.984555, 33.784332], [-84.023713, 33.752808], [-84.172139, 33.857516], [-84.179418, 33.864403], [-84.187005, 33.865515], [-84.203519, 33.873003], [-84.20472, 33.877003], [-84.21663, 33.884976], [-84.23222, 33.902002], [-84.250413, 33.910812], [-84.256022, 33.914401], [-84.259011, 33.91882], [-84.265337, 33.932576], [-84.272216, 33.944853], [-84.266306, 33.947577], [-84.271922, 33.9559], [-84.275722, 33.954201], [-84.276822, 33.9577], [-84.097692, 34.050654], [-84.117801, 34.065315], [-84.109894, 34.098423]]], \"type\": \"Polygon\"}, \"id\": \"13135\", \"properties\": {\"CENSUSAREA\": 430.383, \"COUNTY\": \"135\", \"GEO_ID\": \"0500000US13135\", \"LSAD\": \"County\", \"NAME\": \"Gwinnett\", \"STATE\": \"13\"}, \"type\": \"Feature\"}, {\"geometry\": {\"coordinates\": [[[-85.13204, 32.764211], [-85.123421, 32.772248], [-85.184131, 32.870525], [-84.861768, 32.872495], [-84.700538, 32.84464], [-84.694603, 32.583945], [-84.907883, 32.583433], [-84.907703, 32.607608], [-85.082454, 32.607022], [-85.10479, 32.642542], [-85.114737, 32.685634], [-85.137136, 32.745168], [-85.136776, 32.746512], [-85.13204, 32.764211]]], \"type\": \"Polygon\"}, \"id\": \"13145\", \"properties\": {\"CENSUSAREA\": 463.869, \"COUNTY\": \"145\", \"GEO_ID\": \"0500000US13145\", \"LSAD\": \"County\", \"NAME\": \"Harris\", \"STATE\": \"13\"}, \"type\": \"Feature\"}, {\"geometry\": {\"coordinates\": [[[-84.283518, 33.502514], [-84.281273, 33.647411], [-84.254149, 33.647045], [-84.245453, 33.63073], [-84.224235, 33.630657], [-84.223952, 33.646572], [-84.184143, 33.646157], [-84.181584, 33.629174], [-84.17213, 33.621919], [-84.136289, 33.57233], [-84.044493, 33.525776], [-83.923913, 33.444194], [-84.044594, 33.333656], [-84.044597, 33.333495], [-84.042663, 33.333501], [-84.102582, 33.298191], [-84.150581, 33.335639], [-84.3544, 33.352514], [-84.353584, 33.436165], [-84.283518, 33.502514]]], \"type\": \"Polygon\"}, \"id\": \"13151\", \"properties\": {\"CENSUSAREA\": 322.127, \"COUNTY\": \"151\", \"GEO_ID\": \"0500000US13151\", \"LSAD\": \"County\", \"NAME\": \"Henry\", \"STATE\": \"13\"}, \"type\": \"Feature\"}, {\"geometry\": {\"coordinates\": [[[-82.52142, 31.710796], [-82.521393, 31.672512], [-82.627342, 31.672672], [-82.836633, 31.671398], [-82.836366, 31.816154], [-82.645659, 31.918883], [-82.543655, 31.958914], [-82.483131, 31.968961], [-82.479607, 31.971653], [-82.458152, 31.96389], [-82.452051, 31.96459], [-82.444451, 31.96749], [-82.439351, 31.96779], [-82.431531, 31.966182], [-82.431362, 31.837993], [-82.520251, 31.838388], [-82.52142, 31.710796]]], \"type\": \"Polygon\"}, \"id\": \"13161\", \"properties\": {\"CENSUSAREA\": 330.74, \"COUNTY\": \"161\", \"GEO_ID\": \"0500000US13161\", \"LSAD\": \"County\", \"NAME\": \"Jeff Davis\", \"STATE\": \"13\"}, \"type\": \"Feature\"}, {\"geometry\": {\"coordinates\": [[[-82.946966, 32.759358], [-82.802456, 32.809756], [-82.768365, 32.769108], [-82.521052, 32.822356], [-82.434149, 32.762258], [-82.499431, 32.68634], [-82.465065, 32.646833], [-82.594439, 32.579158], [-82.647733, 32.512507], [-82.668557, 32.612164], [-82.862763, 32.71576], [-82.957066, 32.708318], [-82.946366, 32.741258], [-82.946966, 32.759358]]], \"type\": \"Polygon\"}, \"id\": \"13167\", \"properties\": {\"CENSUSAREA\": 303.01, \"COUNTY\": \"167\", \"GEO_ID\": \"0500000US13167\", \"LSAD\": \"County\", \"NAME\": \"Johnson\", \"STATE\": \"13\"}, \"type\": \"Feature\"}, {\"geometry\": {\"coordinates\": [[[-83.922494, 31.909653], [-83.925103, 31.905668], [-83.927383, 31.904142], [-83.932021, 31.898759], [-83.932301, 31.893801], [-83.928689, 31.886864], [-83.932091, 31.884632], [-83.934061, 31.88139], [-83.931152, 31.876984], [-83.928694, 31.871849], [-83.926524, 31.863292], [-83.932321, 31.859235], [-83.936736, 31.858043], [-83.9378, 31.854805], [-83.938192, 31.849489], [-83.939437, 31.847929], [-84.032344, 31.716772], [-84.018404, 31.650274], [-84.043213, 31.623573], [-84.297801, 31.621951], [-84.286456, 31.791182], [-84.338245, 31.873591], [-84.338143, 31.91619], [-83.922494, 31.909653]]], \"type\": \"Polygon\"}, \"id\": \"13177\", \"properties\": {\"CENSUSAREA\": 355.784, \"COUNTY\": \"177\", \"GEO_ID\": \"0500000US13177\", \"LSAD\": \"County\", \"NAME\": \"Lee\", \"STATE\": \"13\"}, \"type\": \"Feature\"}, {\"geometry\": {\"coordinates\": [[[-81.19438, 31.568101], [-81.261868, 31.650142], [-81.43576, 31.642055], [-81.491798, 31.699575], [-81.641761, 31.765451], [-81.765357, 31.87454], [-81.750257, 31.973207], [-81.824405, 32.014882], [-81.809931, 32.019657], [-81.761735, 32.0479], [-81.718658, 32.089351], [-81.604431, 32.010948], [-81.593429, 31.97135], [-81.475761, 31.974255], [-81.407737, 31.944302], [-81.355837, 31.8149], [-81.198394, 31.72607], [-81.203572, 31.719448], [-81.186303, 31.701509], [-81.161084, 31.691401], [-81.154624, 31.693874], [-81.151888, 31.698411], [-81.149369, 31.699304], [-81.139394, 31.699917], [-81.131137, 31.695774], [-81.135608, 31.683491], [-81.136408, 31.674832], [-81.131728, 31.654484], [-81.133493, 31.623348], [-81.14997, 31.593476], [-81.160364, 31.570436], [-81.173079, 31.555908], [-81.178822, 31.55553], [-81.183252, 31.560058], [-81.186114, 31.568032], [-81.19438, 31.568101]]], \"type\": \"Polygon\"}, \"id\": \"13179\", \"properties\": {\"CENSUSAREA\": 489.801, \"COUNTY\": \"179\", \"GEO_ID\": \"0500000US13179\", \"LSAD\": \"County\", \"NAME\": \"Liberty\", \"STATE\": \"13\"}, \"type\": \"Feature\"}, {\"geometry\": {\"coordinates\": [[[-83.480176, 31.847312], [-83.453634, 31.757861], [-83.500702, 31.59399], [-83.648972, 31.596466], [-83.649384, 31.567977], [-83.78688, 31.62281], [-83.802223, 31.803495], [-83.612642, 31.804128], [-83.612256, 31.854089], [-83.480176, 31.847312]]], \"type\": \"Polygon\"}, \"id\": \"13287\", \"properties\": {\"CENSUSAREA\": 285.393, \"COUNTY\": \"287\", \"GEO_ID\": \"0500000US13287\", \"LSAD\": \"County\", \"NAME\": \"Turner\", \"STATE\": \"13\"}, \"type\": \"Feature\"}, {\"geometry\": {\"coordinates\": [[[-84.005457, 34.98744], [-83.936646, 34.987485], [-83.936413, 34.987485], [-83.915104, 34.926887], [-83.819099, 34.91369], [-83.780401, 34.792893], [-83.856506, 34.722191], [-83.939007, 34.740859], [-84.03651, 34.641934], [-84.158035, 34.648243], [-84.093193, 34.801411], [-84.107422, 34.886896], [-84.178672, 34.946497], [-84.129455, 34.987504], [-84.029954, 34.987321], [-84.021357, 34.98743], [-84.005457, 34.98744]]], \"type\": \"Polygon\"}, \"id\": \"13291\", \"properties\": {\"CENSUSAREA\": 321.926, \"COUNTY\": \"291\", \"GEO_ID\": \"0500000US13291\", \"LSAD\": \"County\", \"NAME\": \"Union\", \"STATE\": \"13\"}, \"type\": \"Feature\"}, {\"geometry\": {\"coordinates\": [[[-82.284561, 31.224449], [-82.208732, 31.170938], [-82.208262, 31.084768], [-82.131698, 31.010714], [-82.415603, 31.01359], [-82.420442, 30.795229], [-82.149872, 30.784336], [-82.214847, 30.567009], [-82.249841, 30.570863], [-82.2581, 30.571559], [-82.287343, 30.573458], [-82.374844, 30.579004], [-82.418915, 30.581745], [-82.435852, 30.820068], [-82.495476, 30.819553], [-82.490558, 30.963166], [-82.592071, 31.018487], [-82.671669, 31.183739], [-82.699206, 31.278104], [-82.629622, 31.274726], [-82.628975, 31.36393], [-82.628181, 31.469351], [-82.597509, 31.469293], [-82.494718, 31.46869], [-82.417246, 31.417119], [-82.383705, 31.291143], [-82.284561, 31.224449]]], \"type\": \"Polygon\"}, \"id\": \"13299\", \"properties\": {\"CENSUSAREA\": 892.461, \"COUNTY\": \"299\", \"GEO_ID\": \"0500000US13299\", \"LSAD\": \"County\", \"NAME\": \"Ware\", \"STATE\": \"13\"}, \"type\": \"Feature\"}, {\"geometry\": {\"coordinates\": [[[-81.969052, 31.789324], [-81.850624, 31.667671], [-81.663206, 31.538667], [-81.62429, 31.452982], [-81.69199, 31.400519], [-81.731694, 31.330048], [-81.801052, 31.363737], [-81.923238, 31.345875], [-82.041129, 31.373721], [-82.052754, 31.454567], [-82.132794, 31.471262], [-82.133013, 31.773404], [-82.048582, 31.827075], [-82.028346, 31.815513], [-82.014639, 31.8218], [-82.006777, 31.800047], [-81.981941, 31.784405], [-81.969052, 31.789324]]], \"type\": \"Polygon\"}, \"id\": \"13305\", \"properties\": {\"CENSUSAREA\": 641.777, \"COUNTY\": \"305\", \"GEO_ID\": \"0500000US13305\", \"LSAD\": \"County\", \"NAME\": \"Wayne\", \"STATE\": \"13\"}, \"type\": \"Feature\"}, {\"geometry\": {\"coordinates\": [[[-83.177469, 31.847857], [-82.995698, 31.780983], [-82.99836, 31.673164], [-83.176376, 31.678382], [-83.177218, 31.651691], [-83.325617, 31.680603], [-83.325296, 31.756584], [-83.453634, 31.757861], [-83.480176, 31.847312], [-83.177469, 31.847857]]], \"type\": \"Polygon\"}, \"id\": \"13017\", \"properties\": {\"CENSUSAREA\": 250.121, \"COUNTY\": \"017\", \"GEO_ID\": \"0500000US13017\", \"LSAD\": \"County\", \"NAME\": \"Ben Hill\", \"STATE\": \"13\"}, \"type\": \"Feature\"}, {\"geometry\": {\"coordinates\": [[[-85.337974, 33.653111], [-85.050889, 33.714632], [-85.037926, 33.811942], [-84.918629, 33.786328], [-84.901688, 33.780703], [-84.902546, 33.661066], [-84.905788, 33.573378], [-84.808934, 33.574085], [-84.850713, 33.511457], [-85.015358, 33.425506], [-85.293902, 33.428079], [-85.304439, 33.482884], [-85.313999, 33.529807], [-85.314091, 33.530218], [-85.314994, 33.535898], [-85.322497, 33.574167], [-85.337974, 33.653111]]], \"type\": \"Polygon\"}, \"id\": \"13045\", \"properties\": {\"CENSUSAREA\": 499.076, \"COUNTY\": \"045\", \"GEO_ID\": \"0500000US13045\", \"LSAD\": \"County\", \"NAME\": \"Carroll\", \"STATE\": \"13\"}, \"type\": \"Feature\"}, {\"geometry\": {\"coordinates\": [[[-82.028238, 33.544934], [-82.014293, 33.530313], [-82.007638, 33.523335], [-82.007138, 33.522835], [-81.967037, 33.480636], [-81.957934, 33.468632], [-81.912572, 33.408811], [-81.902737, 33.331242], [-81.852136, 33.247544], [-81.851975, 33.247408], [-82.088162, 33.230245], [-82.17424, 33.296771], [-82.26758, 33.267397], [-82.278539, 33.269174], [-82.286507, 33.274135], [-82.296855, 33.277349], [-82.311539, 33.297146], [-82.353498, 33.312318], [-82.350299, 33.314801], [-82.294179, 33.354635], [-82.028238, 33.544934]]], \"type\": \"Polygon\"}, \"id\": \"13245\", \"properties\": {\"CENSUSAREA\": 324.326, \"COUNTY\": \"245\", \"GEO_ID\": \"0500000US13245\", \"LSAD\": \"County\", \"NAME\": \"Richmond\", \"STATE\": \"13\"}, \"type\": \"Feature\"}, {\"geometry\": {\"coordinates\": [[[-81.405134, 32.744964], [-81.414761, 32.63744], [-81.418431, 32.634704], [-81.41866, 32.629392], [-81.411906, 32.61841], [-81.389338, 32.595436], [-81.389258, 32.595385], [-81.538558, 32.509059], [-81.548006, 32.489286], [-81.689643, 32.54629], [-81.841005, 32.649093], [-81.867938, 32.68115], [-81.767553, 32.909411], [-81.541831, 33.045654], [-81.51169, 33.024506], [-81.496637, 33.010224], [-81.491495, 32.998572], [-81.494736, 32.978998], [-81.49983, 32.963816], [-81.423772, 32.810514], [-81.404949, 32.747027], [-81.405134, 32.744964]]], \"type\": \"Polygon\"}, \"id\": \"13251\", \"properties\": {\"CENSUSAREA\": 645.101, \"COUNTY\": \"251\", \"GEO_ID\": \"0500000US13251\", \"LSAD\": \"County\", \"NAME\": \"Screven\", \"STATE\": \"13\"}, \"type\": \"Feature\"}, {\"geometry\": {\"coordinates\": [[[-84.430215, 32.166257], [-84.183569, 32.158493], [-84.181657, 32.229703], [-84.027853, 32.171083], [-83.961278, 32.030595], [-83.922494, 31.909653], [-84.338143, 31.91619], [-84.338245, 31.873591], [-84.443807, 31.967456], [-84.431214, 32.134058], [-84.430215, 32.166257]]], \"type\": \"Polygon\"}, \"id\": \"13261\", \"properties\": {\"CENSUSAREA\": 482.697, \"COUNTY\": \"261\", \"GEO_ID\": \"0500000US13261\", \"LSAD\": \"County\", \"NAME\": \"Sumter\", \"STATE\": \"13\"}, \"type\": \"Feature\"}, {\"geometry\": {\"coordinates\": [[[-84.444353, 32.562083], [-84.637323, 32.534855], [-84.648977, 32.534956], [-84.658017, 32.528759], [-84.661721, 32.529148], [-84.678157, 32.518915], [-84.686265, 32.519624], [-84.69451, 32.518732], [-84.694603, 32.583945], [-84.700538, 32.84464], [-84.570669, 32.845179], [-84.506888, 32.881788], [-84.391017, 32.786956], [-84.286246, 32.747626], [-84.33794, 32.720647], [-84.408866, 32.561923], [-84.444353, 32.562083]]], \"type\": \"Polygon\"}, \"id\": \"13263\", \"properties\": {\"CENSUSAREA\": 391.389, \"COUNTY\": \"263\", \"GEO_ID\": \"0500000US13263\", \"LSAD\": \"County\", \"NAME\": \"Talbot\", \"STATE\": \"13\"}, \"type\": \"Feature\"}, {\"geometry\": {\"coordinates\": [[[-84.297801, 31.621951], [-84.450398, 31.621868], [-84.450416, 31.621255], [-84.546854, 31.621199], [-84.535527, 31.681828], [-84.603086, 31.772001], [-84.599776, 31.920171], [-84.45331, 31.919224], [-84.443807, 31.967456], [-84.338245, 31.873591], [-84.286456, 31.791182], [-84.297801, 31.621951]]], \"type\": \"Polygon\"}, \"id\": \"13273\", \"properties\": {\"CENSUSAREA\": 335.439, \"COUNTY\": \"273\", \"GEO_ID\": \"0500000US13273\", \"LSAD\": \"County\", \"NAME\": \"Terrell\", \"STATE\": \"13\"}, \"type\": \"Feature\"}], \"type\": \"FeatureCollection\"}, \"hovertemplate\": \"fips=%{location}<br>County_fullname=%{customdata[0]}<br>Percent of Violent Crime by Population=%{z}<extra></extra>\", \"locations\": [13001, 13003, 13005, 13007, 13009, 13011, 13013, 13015, 13017, 13019, 13023, 13025, 13029, 13031, 13033, 13035, 13037, 13043, 13045, 13047, 13049, 13051, 13055, 13057, 13059, 13063, 13065, 13067, 13071, 13073, 13075, 13077, 13079, 13081, 13083, 13089, 13087, 13091, 13093, 13095, 13097, 13099, 13103, 13105, 13107, 13109, 13111, 13113, 13115, 13119, 13121, 13123, 13127, 13131, 13133, 13135, 13137, 13139, 13141, 13143, 13145, 13147, 13149, 13151, 13153, 13155, 13157, 13161, 13163, 13165, 13169, 13175, 13179, 13183, 13185, 13193, 13195, 13191, 13199, 13201, 13205, 13207, 13209, 13211, 13213, 13217, 13223, 13225, 13227, 13229, 13231, 13233, 13237, 13241, 13243, 13245, 13249, 13251, 13253, 13255, 13257, 13259, 13261, 13263, 13267, 13269, 13271, 13273, 13275, 13277, 13279, 13281, 13285, 13287, 13291, 13293, 13295, 13297, 13299, 13301, 13303, 13305, 13309, 13311, 13313, 13315, 13319, 13321], \"name\": \"\", \"type\": \"choropleth\", \"z\": [1.4562138440055854, 0.21849963583394028, 0.7171543316121629, 0.0, 0.3544575725026853, 0.10224948875255624, 0.13425393172228614, 0.2799552071668533, 0.49579153695376454, 0.6848272713437833, 0.22531749283080704, 0.0, 0.19372336303758234, 0.3346680212753242, 0.43367728428293706, 0.3528719858851206, 0.1465845793022574, 0.17583521728208992, 0.45201056648077487, 0.46625222024866786, 0.30504216759375563, 0.36924093058551566, 0.0, 0.10387766104324729, 0.0, 0.7158765510658607, 0.6265664160401002, 0.24896930714396637, 0.47904191616766467, 0.12389480204989582, 0.4970178926441352, 0.402681733850565, 0.6185567010309279, 0.5998687787046584, 0.2697841726618705, 0.28513839044294775, 0.7302198683999358, 0.833664152441445, 0.4914004914004914, 1.114417169463041, 0.5663810306373988, 0.8907234412339778, 0.14756517461878996, 0.9069767441860465, 0.7147335423197492, 0.12414649286157665, 0.2820874471086037, 0.07893957833108575, 0.3536693191865606, 0.4813477737665463, 0.5371888953378118, 0.4770164787510841, 1.0650599476599112, 0.22323801424471137, 0.5963029218843172, 0.2288512911843277, 0.25851244552773467, 0.3620537640459977, 0.487012987012987, 0.3710230961877377, 0.15296367112810708, 0.6714413607878246, 0.0, 0.16564601947595622, 0.5691144579035021, 0.5474952094169176, 0.15741586122217674, 0.41033067825247405, 0.7073531830893239, 1.0834236186348862, 0.18820577164366373, 0.8060421426758061, 0.42058597857284946, 0.1310615989515072, 0.4004805766920304, 0.5250596658711217, 0.0, 0.04124561765312436, 0.4036133000192197, 0.644122383252818, 0.5863726984871585, 0.2694757471827536, 0.0, 0.26842362127867253, 0.15313935681470137, 0.3347942537131726, 0.2621889992190115, 0.6818344936481734, 0.28234086242299794, 0.9075439591605219, 0.0, 0.6262508877267738, 0.5140610825521621, 0.26961445133459155, 0.02789400278940028, 0.0, 0.5336179295624333, 0.5343197698314838, 0.07923930269413629, 1.1494252873563218, 0.4332129963898917, 0.0, 0.8050144410987525, 0.830367734282325, 0.07869368483179225, 0.0, 0.0, 0.43870338776504997, 0.17340129262781778, 0.5733005733005733, 0.5077173030056864, 0.5458515283842795, 0.42407916144346947, 0.883245928788297, 0.0, 0.5285533724003217, 0.29576489837014663, 0.5417357656163626, 0.5155762108779319, 0.8168028004667445, 0.3040834057341442, 0.3712105588781192, 0.029342723004694836, 0.24428159005107705, 0.26798063623789764, 0.025799793601651185, 0.20656414964425063, 0.0]}],                        {\"coloraxis\": {\"cmax\": 1.5, \"cmin\": 0, \"colorbar\": {\"title\": {\"text\": \"Percent of Violent Crime by Population\"}}, \"colorscale\": [[0.0, \"#440154\"], [0.1111111111111111, \"#482878\"], [0.2222222222222222, \"#3e4989\"], [0.3333333333333333, \"#31688e\"], [0.4444444444444444, \"#26828e\"], [0.5555555555555556, \"#1f9e89\"], [0.6666666666666666, \"#35b779\"], [0.7777777777777778, \"#6ece58\"], [0.8888888888888888, \"#b5de2b\"], [1.0, \"#fde725\"]]}, \"geo\": {\"center\": {\"lat\": 33.247875, \"lon\": -83.441162}, \"domain\": {\"x\": [0.0, 1.0], \"y\": [0.0, 1.0]}, \"scope\": \"usa\"}, \"legend\": {\"tracegroupgap\": 0}, \"margin\": {\"b\": 0, \"l\": 0, \"r\": 0, \"t\": 0}, \"template\": {\"data\": {\"bar\": [{\"error_x\": {\"color\": \"#2a3f5f\"}, \"error_y\": {\"color\": \"#2a3f5f\"}, \"marker\": {\"line\": {\"color\": \"#E5ECF6\", \"width\": 0.5}}, \"type\": \"bar\"}], \"barpolar\": [{\"marker\": {\"line\": {\"color\": \"#E5ECF6\", \"width\": 0.5}}, \"type\": \"barpolar\"}], \"carpet\": [{\"aaxis\": {\"endlinecolor\": \"#2a3f5f\", \"gridcolor\": \"white\", \"linecolor\": \"white\", \"minorgridcolor\": \"white\", \"startlinecolor\": \"#2a3f5f\"}, \"baxis\": {\"endlinecolor\": \"#2a3f5f\", \"gridcolor\": \"white\", \"linecolor\": \"white\", \"minorgridcolor\": \"white\", \"startlinecolor\": \"#2a3f5f\"}, \"type\": \"carpet\"}], \"choropleth\": [{\"colorbar\": {\"outlinewidth\": 0, \"ticks\": \"\"}, \"type\": \"choropleth\"}], \"contour\": [{\"colorbar\": {\"outlinewidth\": 0, \"ticks\": \"\"}, \"colorscale\": [[0.0, \"#0d0887\"], [0.1111111111111111, \"#46039f\"], [0.2222222222222222, \"#7201a8\"], [0.3333333333333333, \"#9c179e\"], [0.4444444444444444, \"#bd3786\"], [0.5555555555555556, \"#d8576b\"], [0.6666666666666666, \"#ed7953\"], [0.7777777777777778, \"#fb9f3a\"], [0.8888888888888888, \"#fdca26\"], [1.0, \"#f0f921\"]], \"type\": \"contour\"}], \"contourcarpet\": [{\"colorbar\": {\"outlinewidth\": 0, \"ticks\": \"\"}, \"type\": \"contourcarpet\"}], \"heatmap\": [{\"colorbar\": {\"outlinewidth\": 0, \"ticks\": \"\"}, \"colorscale\": [[0.0, \"#0d0887\"], [0.1111111111111111, \"#46039f\"], [0.2222222222222222, \"#7201a8\"], [0.3333333333333333, \"#9c179e\"], [0.4444444444444444, \"#bd3786\"], [0.5555555555555556, \"#d8576b\"], [0.6666666666666666, \"#ed7953\"], [0.7777777777777778, \"#fb9f3a\"], [0.8888888888888888, \"#fdca26\"], [1.0, \"#f0f921\"]], \"type\": \"heatmap\"}], \"heatmapgl\": [{\"colorbar\": {\"outlinewidth\": 0, \"ticks\": \"\"}, \"colorscale\": [[0.0, \"#0d0887\"], [0.1111111111111111, \"#46039f\"], [0.2222222222222222, \"#7201a8\"], [0.3333333333333333, \"#9c179e\"], [0.4444444444444444, \"#bd3786\"], [0.5555555555555556, \"#d8576b\"], [0.6666666666666666, \"#ed7953\"], [0.7777777777777778, \"#fb9f3a\"], [0.8888888888888888, \"#fdca26\"], [1.0, \"#f0f921\"]], \"type\": \"heatmapgl\"}], \"histogram\": [{\"marker\": {\"colorbar\": {\"outlinewidth\": 0, \"ticks\": \"\"}}, \"type\": \"histogram\"}], \"histogram2d\": [{\"colorbar\": {\"outlinewidth\": 0, \"ticks\": \"\"}, \"colorscale\": [[0.0, \"#0d0887\"], [0.1111111111111111, \"#46039f\"], [0.2222222222222222, \"#7201a8\"], [0.3333333333333333, \"#9c179e\"], [0.4444444444444444, \"#bd3786\"], [0.5555555555555556, \"#d8576b\"], [0.6666666666666666, \"#ed7953\"], [0.7777777777777778, \"#fb9f3a\"], [0.8888888888888888, \"#fdca26\"], [1.0, \"#f0f921\"]], \"type\": \"histogram2d\"}], \"histogram2dcontour\": [{\"colorbar\": {\"outlinewidth\": 0, \"ticks\": \"\"}, \"colorscale\": [[0.0, \"#0d0887\"], [0.1111111111111111, \"#46039f\"], [0.2222222222222222, \"#7201a8\"], [0.3333333333333333, \"#9c179e\"], [0.4444444444444444, \"#bd3786\"], [0.5555555555555556, \"#d8576b\"], [0.6666666666666666, \"#ed7953\"], [0.7777777777777778, \"#fb9f3a\"], [0.8888888888888888, \"#fdca26\"], [1.0, \"#f0f921\"]], \"type\": \"histogram2dcontour\"}], \"mesh3d\": [{\"colorbar\": {\"outlinewidth\": 0, \"ticks\": \"\"}, \"type\": \"mesh3d\"}], \"parcoords\": [{\"line\": {\"colorbar\": {\"outlinewidth\": 0, \"ticks\": \"\"}}, \"type\": \"parcoords\"}], \"pie\": [{\"automargin\": true, \"type\": \"pie\"}], \"scatter\": [{\"marker\": {\"colorbar\": {\"outlinewidth\": 0, \"ticks\": \"\"}}, \"type\": \"scatter\"}], \"scatter3d\": [{\"line\": {\"colorbar\": {\"outlinewidth\": 0, \"ticks\": \"\"}}, \"marker\": {\"colorbar\": {\"outlinewidth\": 0, \"ticks\": \"\"}}, \"type\": \"scatter3d\"}], \"scattercarpet\": [{\"marker\": {\"colorbar\": {\"outlinewidth\": 0, \"ticks\": \"\"}}, \"type\": \"scattercarpet\"}], \"scattergeo\": [{\"marker\": {\"colorbar\": {\"outlinewidth\": 0, \"ticks\": \"\"}}, \"type\": \"scattergeo\"}], \"scattergl\": [{\"marker\": {\"colorbar\": {\"outlinewidth\": 0, \"ticks\": \"\"}}, \"type\": \"scattergl\"}], \"scattermapbox\": [{\"marker\": {\"colorbar\": {\"outlinewidth\": 0, \"ticks\": \"\"}}, \"type\": \"scattermapbox\"}], \"scatterpolar\": [{\"marker\": {\"colorbar\": {\"outlinewidth\": 0, \"ticks\": \"\"}}, \"type\": \"scatterpolar\"}], \"scatterpolargl\": [{\"marker\": {\"colorbar\": {\"outlinewidth\": 0, \"ticks\": \"\"}}, \"type\": \"scatterpolargl\"}], \"scatterternary\": [{\"marker\": {\"colorbar\": {\"outlinewidth\": 0, \"ticks\": \"\"}}, \"type\": \"scatterternary\"}], \"surface\": [{\"colorbar\": {\"outlinewidth\": 0, \"ticks\": \"\"}, \"colorscale\": [[0.0, \"#0d0887\"], [0.1111111111111111, \"#46039f\"], [0.2222222222222222, \"#7201a8\"], [0.3333333333333333, \"#9c179e\"], [0.4444444444444444, \"#bd3786\"], [0.5555555555555556, \"#d8576b\"], [0.6666666666666666, \"#ed7953\"], [0.7777777777777778, \"#fb9f3a\"], [0.8888888888888888, \"#fdca26\"], [1.0, \"#f0f921\"]], \"type\": \"surface\"}], \"table\": [{\"cells\": {\"fill\": {\"color\": \"#EBF0F8\"}, \"line\": {\"color\": \"white\"}}, \"header\": {\"fill\": {\"color\": \"#C8D4E3\"}, \"line\": {\"color\": \"white\"}}, \"type\": \"table\"}]}, \"layout\": {\"annotationdefaults\": {\"arrowcolor\": \"#2a3f5f\", \"arrowhead\": 0, \"arrowwidth\": 1}, \"coloraxis\": {\"colorbar\": {\"outlinewidth\": 0, \"ticks\": \"\"}}, \"colorscale\": {\"diverging\": [[0, \"#8e0152\"], [0.1, \"#c51b7d\"], [0.2, \"#de77ae\"], [0.3, \"#f1b6da\"], [0.4, \"#fde0ef\"], [0.5, \"#f7f7f7\"], [0.6, \"#e6f5d0\"], [0.7, \"#b8e186\"], [0.8, \"#7fbc41\"], [0.9, \"#4d9221\"], [1, \"#276419\"]], \"sequential\": [[0.0, \"#0d0887\"], [0.1111111111111111, \"#46039f\"], [0.2222222222222222, \"#7201a8\"], [0.3333333333333333, \"#9c179e\"], [0.4444444444444444, \"#bd3786\"], [0.5555555555555556, \"#d8576b\"], [0.6666666666666666, \"#ed7953\"], [0.7777777777777778, \"#fb9f3a\"], [0.8888888888888888, \"#fdca26\"], [1.0, \"#f0f921\"]], \"sequentialminus\": [[0.0, \"#0d0887\"], [0.1111111111111111, \"#46039f\"], [0.2222222222222222, \"#7201a8\"], [0.3333333333333333, \"#9c179e\"], [0.4444444444444444, \"#bd3786\"], [0.5555555555555556, \"#d8576b\"], [0.6666666666666666, \"#ed7953\"], [0.7777777777777778, \"#fb9f3a\"], [0.8888888888888888, \"#fdca26\"], [1.0, \"#f0f921\"]]}, \"colorway\": [\"#636efa\", \"#EF553B\", \"#00cc96\", \"#ab63fa\", \"#FFA15A\", \"#19d3f3\", \"#FF6692\", \"#B6E880\", \"#FF97FF\", \"#FECB52\"], \"font\": {\"color\": \"#2a3f5f\"}, \"geo\": {\"bgcolor\": \"white\", \"lakecolor\": \"white\", \"landcolor\": \"#E5ECF6\", \"showlakes\": true, \"showland\": true, \"subunitcolor\": \"white\"}, \"hoverlabel\": {\"align\": \"left\"}, \"hovermode\": \"closest\", \"mapbox\": {\"style\": \"light\"}, \"paper_bgcolor\": \"white\", \"plot_bgcolor\": \"#E5ECF6\", \"polar\": {\"angularaxis\": {\"gridcolor\": \"white\", \"linecolor\": \"white\", \"ticks\": \"\"}, \"bgcolor\": \"#E5ECF6\", \"radialaxis\": {\"gridcolor\": \"white\", \"linecolor\": \"white\", \"ticks\": \"\"}}, \"scene\": {\"xaxis\": {\"backgroundcolor\": \"#E5ECF6\", \"gridcolor\": \"white\", \"gridwidth\": 2, \"linecolor\": \"white\", \"showbackground\": true, \"ticks\": \"\", \"zerolinecolor\": \"white\"}, \"yaxis\": {\"backgroundcolor\": \"#E5ECF6\", \"gridcolor\": \"white\", \"gridwidth\": 2, \"linecolor\": \"white\", \"showbackground\": true, \"ticks\": \"\", \"zerolinecolor\": \"white\"}, \"zaxis\": {\"backgroundcolor\": \"#E5ECF6\", \"gridcolor\": \"white\", \"gridwidth\": 2, \"linecolor\": \"white\", \"showbackground\": true, \"ticks\": \"\", \"zerolinecolor\": \"white\"}}, \"shapedefaults\": {\"line\": {\"color\": \"#2a3f5f\"}}, \"ternary\": {\"aaxis\": {\"gridcolor\": \"white\", \"linecolor\": \"white\", \"ticks\": \"\"}, \"baxis\": {\"gridcolor\": \"white\", \"linecolor\": \"white\", \"ticks\": \"\"}, \"bgcolor\": \"#E5ECF6\", \"caxis\": {\"gridcolor\": \"white\", \"linecolor\": \"white\", \"ticks\": \"\"}}, \"title\": {\"x\": 0.05}, \"xaxis\": {\"automargin\": true, \"gridcolor\": \"white\", \"linecolor\": \"white\", \"ticks\": \"\", \"title\": {\"standoff\": 15}, \"zerolinecolor\": \"white\", \"zerolinewidth\": 2}, \"yaxis\": {\"automargin\": true, \"gridcolor\": \"white\", \"linecolor\": \"white\", \"ticks\": \"\", \"title\": {\"standoff\": 15}, \"zerolinecolor\": \"white\", \"zerolinewidth\": 2}}}, \"title\": {\"text\": \"Percent of Violent Crime in Georgia Counties in 2018 by Population\"}},                        {\"responsive\": true}                    ).then(function(){\n",
              "                            \n",
              "var gd = document.getElementById('b403b4c8-696a-447b-906e-7843ee8d552b');\n",
              "var x = new MutationObserver(function (mutations, observer) {{\n",
              "        var display = window.getComputedStyle(gd).display;\n",
              "        if (!display || display === 'none') {{\n",
              "            console.log([gd, 'removed!']);\n",
              "            Plotly.purge(gd);\n",
              "            observer.disconnect();\n",
              "        }}\n",
              "}});\n",
              "\n",
              "// Listen for the removal of the full notebook cells\n",
              "var notebookContainer = gd.closest('#notebook-container');\n",
              "if (notebookContainer) {{\n",
              "    x.observe(notebookContainer, {childList: true});\n",
              "}}\n",
              "\n",
              "// Listen for the clearing of the current output cell\n",
              "var outputEl = gd.closest('.output');\n",
              "if (outputEl) {{\n",
              "    x.observe(outputEl, {childList: true});\n",
              "}}\n",
              "\n",
              "                        })                };                            </script>        </div>\n",
              "</body>\n",
              "</html>"
            ]
          },
          "metadata": {
            "tags": []
          }
        }
      ]
    },
    {
      "cell_type": "code",
      "metadata": {
        "id": "oNNl7Ld7sSS1"
      },
      "source": [
        ""
      ],
      "execution_count": null,
      "outputs": []
    }
  ]
}